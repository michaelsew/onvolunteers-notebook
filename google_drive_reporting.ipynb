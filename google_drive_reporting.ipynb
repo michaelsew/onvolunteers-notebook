{
 "cells": [
  {
   "cell_type": "markdown",
   "metadata": {},
   "source": [
    "# Google Drive Data Reporting and Visualization Notebook\n",
    "\n",
    "This notebook connects to Google Drive, reads data from a Google Sheet, and generates a sample report and visualization. Follow the steps below to get started."
   ]
  },
  {
   "cell_type": "markdown",
   "metadata": {},
   "source": [
    "## Step 1: Install Necessary Libraries"
   ]
  },
  {
   "cell_type": "code",
   "execution_count": null,
   "metadata": {},
   "outputs": [],
   "source": [
    "!pip install gspread google-auth-oauthlib pandas matplotlib seaborn"
   ]
  },
  {
   "cell_type": "markdown",
   "metadata": {},
   "source": [
    "## Step 2: Authenticate and Mount Google Drive\n",
    "\n",
    "Run the following cell and follow the link to authorize access to your Google Drive. You'll need to copy the authorization code and paste it into the input box."
   ]
  },
  {
   "cell_type": "code",
   "execution_count": null,
   "metadata": {},
   "outputs": [],
   "source": [
    "from google.colab import drive\n",
    "drive.mount('/content/drive')"
   ]
  },
  {
   "cell_type": "markdown",
   "metadata": {},
   "source": [
    "## Step 3: Authenticate with Google Sheets API"
   ]
  },
  {
   "cell_type": "code",
   "execution_count": null,
   "metadata": {},
   "outputs": [],
   "source": [
    "from google.colab import auth\n",
    "auth.authenticate_user()\n",
    "\n",
    "import gspread\n",
    "from google.auth import default\n",
    "creds, _ = default()\n",
    "\n",
    "gc = gspread.authorize(creds)"
   ]
  },
  {
   "cell_type": "markdown",
   "metadata": {},
   "source": [
    "## Step 4: Access the Spreadsheet and Load Data\n",
    "\n",
    "Now, open the spreadsheet you want to analyze. Replace `YourSpreadsheetName` in the cell below with the exact name of your Google Sheet. The code will then load the first sheet into a pandas DataFrame."
   ]
  },
  {
   "cell_type": "code",
   "execution_count": null,
   "metadata": {},
   "outputs": [],
   "source": [
    "# \"\"\"\n",
    "# IMPORTANT: Replace 'YourSpreadsheetName' with the name of your Google Sheet file.\n",
    "# \"\"\"\n",
    "spreadsheet_name = 'YourSpreadsheetName'\n",
    "\n",
    "try:\n",
    "    worksheet = gc.open(spreadsheet_name).sheet1\n",
    "\n",
    "    # Get all values from the sheet and convert to a pandas DataFrame\n",
    "    rows = worksheet.get_all_values()\n",
    "    import pandas as pd\n",
    "\n",
    "    # Assume the first row is the header\n",
    "    df = pd.DataFrame.from_records(rows[1:], columns=rows[0])\n",
    "    print(f\"Successfully loaded {len(df)} rows from '{spreadsheet_name}'.\")\n",
    "except gspread.exceptions.SpreadsheetNotFound:\n",
    "    print(f\"Error: Spreadsheet '{spreadsheet_name}' not found. Please check the name and make sure you have access.\")"
   ]
  },
  {
   "cell_type": "markdown",
   "metadata": {},
   "source": [
    "## Step 5: Generate Reports and Visualizations\n",
    "\n",
    "This section provides examples of how to analyze and visualize your data. You'll need to replace the placeholder column names (`'CategoryColumn'`, `'NumericColumn'`) with actual column names from your spreadsheet."
   ]
  },
  {
   "cell_type": "code",
   "execution_count": null,
   "metadata": {},
   "outputs": [],
   "source": [
    "# Display the first 5 rows of the data\n",
    "print('Data Head:')\n",
    "print(df.head())\n",
    "\n",
    "# --- Example 1: Summary Report --- \n",
    "# Replace 'NumericColumn' with a numeric column from your sheet (e.g., 'Sales', 'Age')\n",
    "numeric_column_name = 'NumericColumn'\n",
    "if numeric_column_name in df.columns:\n",
    "    # Ensure the column is numeric for calculations\n",
    "    df[numeric_column_name] = pd.to_numeric(df[numeric_column_name], errors='coerce')\n",
    "    print(f'\n--- Summary for {numeric_column_name} ---')\n",
    "    print(df[numeric_column_name].describe())\n",
    "else:\n",
    "    print(f'\nWarning: Column \'{numeric_column_name}\' not found. Skipping summary report.')\n",
    "\n",
    "# --- Example 2: Visualization --- \n",
    "# Replace 'CategoryColumn' with a categorical column from your sheet (e.g., 'Product', 'City')\n",
    "category_column_name = 'CategoryColumn'\n",
    "if category_column_name in df.columns:\n",
    "    import matplotlib.pyplot as plt\n",
    "    import seaborn as sns\n",
    "\n",
    "    print(f'\n--- Visualization for {category_column_name} ---')\n",
    "    plt.figure(figsize=(10, 6))\n",
    "    sns.countplot(y=df[category_column_name])\n",
    "    plt.title(f'Count of Items in {category_column_name}')\n",
    "    plt.xlabel('Count')\n",
    "    plt.ylabel(category_column_name)\n",
    "    plt.tight_layout()\n",
    "    plt.show()\n",
    "else:\n",
    "    print(f'\nWarning: Column \'{category_column_name}\' not found. Skipping visualization.')"
   ]
  }
 ],
 "metadata": {
  "colab": {
   "name": "Google Drive Reporting.ipynb",
   "provenance": []
  },
  "kernelspec": {
   "display_name": "Python 3",
   "name": "python3"
  },
  "language_info": {
   "name": "python"
  }
 },
 "nbformat": 4,
 "nbformat_minor": 0
}