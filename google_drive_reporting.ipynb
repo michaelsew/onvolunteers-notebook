{
  "cells": [
    {
      "cell_type": "markdown",
      "metadata": {
        "id": "view-in-github",
        "colab_type": "text"
      },
      "source": [
        "<a href=\"https://colab.research.google.com/github/michaelsew/onvolunteers-notebook/blob/main/google_drive_reporting.ipynb\" target=\"_parent\"><img src=\"https://colab.research.google.com/assets/colab-badge.svg\" alt=\"Open In Colab\"/></a>"
      ]
    },
    {
      "cell_type": "markdown",
      "metadata": {
        "id": "SYyN7YKJmib-"
      },
      "source": [
        "# Login to OnVolunteers"
      ]
    },
    {
      "cell_type": "code",
      "source": [
        "!pip install playwright  --progress-bar off\n",
        "!playwright install --with-deps chromium  #Chrome"
      ],
      "metadata": {
        "collapsed": true,
        "id": "vqvxSkUEJnMv"
      },
      "execution_count": null,
      "outputs": []
    },
    {
      "cell_type": "markdown",
      "source": [
        "**Add OnVolunteers Username & Password to your Secrets**\n",
        "\n",
        "1. On the left panel, click the \"Key\" icon\n",
        "1. Click \"Add new secret\" named `ov_username`, value = your OV admin user\n",
        "1. Click \"Add new secret\" with name `ov_password`, filling in your password.\n",
        "\n"
      ],
      "metadata": {
        "id": "SvZzVuGJJ_dP"
      }
    },
    {
      "cell_type": "code",
      "execution_count": null,
      "metadata": {
        "id": "S_9CQTi2miOM"
      },
      "outputs": [],
      "source": [
        "\n",
        "\n",
        "import asyncio\n",
        "from playwright.async_api import async_playwright\n",
        "from google.colab import userdata\n",
        "\n",
        "async def login_to_onvolunteers():\n",
        "    async with async_playwright() as p:\n",
        "        # Launch browser in headless mode\n",
        "        browser = await p.chromium.launch(headless=True)\n",
        "        page = await browser.new_page()\n",
        "\n",
        "        # Navigate to the login page\n",
        "        await page.goto(\"http://sfx.onvolunteers.com\")\n",
        "\n",
        "        # Click the link to switch to administrator login\n",
        "        await page.click(\"#btSwitch\")\n",
        "\n",
        "        # Wait for the Administrator Login text to appear\n",
        "        await page.wait_for_selector(\"text=Administrator Login\")\n",
        "\n",
        "        # Fill in the username and password from secrets\n",
        "        await page.fill(\"#tbUsername\", userdata.get(\"ov_username\"))\n",
        "        await page.fill(\"#tbPassword\", userdata.get(\"ov_password\"))\n",
        "\n",
        "        # Click the login button\n",
        "        await page.click(\"#btLogin\")\n",
        "\n",
        "        # Wait for the home page text to appear\n",
        "        await page.wait_for_selector(\"text=SFX Parent Participation Program\")\n",
        "\n",
        "        print(\"Successfully logged in to SFX OnVolunteers.\")\n",
        "\n",
        "        # You can now interact with the page after successful login\n",
        "        # For example, to get the title of the page:\n",
        "        # print(await page.title())\n",
        "\n",
        "        await browser.close()\n",
        "\n",
        "await login_to_onvolunteers()"
      ]
    },
    {
      "cell_type": "markdown",
      "metadata": {
        "id": "607c5ccc"
      },
      "source": [
        "## Parking Hours Report Generation\n",
        "\n",
        "This notebook helps generate a parking hours report from an Excel file stored in Google Drive.\n",
        "\n",
        "**Instructions:**\n",
        "\n",
        "1.  **Set the Report Date:** In the code cell below, set the `REPORT_DATE_STR` variable to the desired date for the report in \"YYYY-MM-DD\" format.\n",
        "1.  **Connect to Google Drive:** Run the code cell to connect and authorize access to your Google Drive."
      ]
    },
    {
      "cell_type": "code",
      "execution_count": 1,
      "metadata": {
        "id": "411a79b4"
      },
      "outputs": [],
      "source": [
        "# Set the report date in YYYY-MM-DD format\n",
        "REPORT_DATE_STR = \"2025-08-07\"\n",
        "\n",
        "# Connect to Google Drive and authorize\n",
        "from google.colab import drive\n",
        "drive.mount('/content/drive', force_remount=True)"
      ]
    },
    {
      "cell_type": "markdown",
      "source": [
        "**Generate Report:** load the Parking hours folder"
      ],
      "metadata": {
        "id": "uQjjqYBf8dZs"
      }
    },
    {
      "cell_type": "code",
      "execution_count": null,
      "metadata": {
        "id": "FTbucJfe8luJ"
      },
      "outputs": [],
      "source": [
        "import pandas as pd\n",
        "from datetime import datetime\n",
        "\n",
        "REPORT_DATE = datetime.strptime(REPORT_DATE_STR, \"%Y-%m-%d\").date()\n",
        "\n",
        "# Construct the directory path\n",
        "parking_dir = f'/content/drive/My Drive/PTA 2025-2026 SHARED FOLDER/Subcommittees/OnVolunteers/Reports/parking-hours'\n",
        "parking_file = f'{parking_dir}/parking-hours-{REPORT_DATE_STR}.xlsx'\n",
        "\n",
        "# Load the Excel file into a pandas DataFrame\n",
        "try:\n",
        "    df_parking_hours = pd.read_excel(parking_file)\n",
        "    print(f\"Successfully loaded data from {parking_file}\")\n",
        "    # Display the head of the loaded DataFrame\n",
        "    display(df_parking_hours.head())\n",
        "except FileNotFoundError:\n",
        "    print(f\"Error: File not found at {parking_file}\")\n",
        "except Exception as e:\n",
        "    print(f\"An error occurred: {e}\")\n"
      ]
    },
    {
      "cell_type": "markdown",
      "source": [
        "Read Volunteer-Hours report (from `PTA 2025-2026 SHARED FOLDER/Subcommittees/OnVolunteers/Reports/volunteer-hours`)"
      ],
      "metadata": {
        "id": "zFq_Evb48pf5"
      }
    },
    {
      "cell_type": "code",
      "execution_count": null,
      "metadata": {
        "id": "jiVfUHNnlelm"
      },
      "outputs": [],
      "source": [
        "import pandas as pd\n",
        "from datetime import datetime\n",
        "\n",
        "# Construct the directory path\n",
        "volunteer_hours_dir = f'/content/drive/My Drive/PTA 2025-2026 SHARED FOLDER/Subcommittees/OnVolunteers/Reports/volunteer-hours'\n",
        "volunteer_hours_file = f'{volunteer_hours_dir}/volunteer-hours-{REPORT_DATE_STR}.xlsx'\n",
        "\n",
        "# Load the Excel file into a pandas DataFrame\n",
        "try:\n",
        "    df_volunteer_hours = pd.read_excel(volunteer_hours_file)\n",
        "    print(f\"Successfully loaded data from {volunteer_hours_file}\")\n",
        "    # Display the head of the loaded DataFrame\n",
        "    display(df_volunteer_hours.head())\n",
        "except FileNotFoundError:\n",
        "    print(f\"Error: File not found at {volunteer_hours_file}\")\n",
        "except Exception as e:\n",
        "    print(f\"An error occurred: {e}\")\n"
      ]
    },
    {
      "cell_type": "code",
      "execution_count": null,
      "metadata": {
        "id": "LEK5f4m78YFQ"
      },
      "outputs": [],
      "source": [
        "from matplotlib import pyplot as plt\n",
        "import seaborn as sns\n",
        "_df_1.groupby('First Name').size().plot(kind='barh', color=sns.palettes.mpl_palette('Dark2'))\n",
        "plt.gca().spines[['top', 'right',]].set_visible(False)"
      ]
    },
    {
      "cell_type": "markdown",
      "metadata": {
        "id": "bed67268"
      },
      "source": [
        "# Task\n",
        "Analyze the parking data in the dataframe to determine and visualize the distribution of families who have completed 3 or more hours of parking versus those who have not."
      ]
    },
    {
      "cell_type": "markdown",
      "metadata": {
        "id": "ec402cff"
      },
      "source": [
        "## Calculate completed hours\n",
        "\n",
        "### Subtask:\n",
        "Determine which families have completed 3 or more hours and which have not.\n"
      ]
    },
    {
      "cell_type": "markdown",
      "metadata": {
        "id": "6622dc36"
      },
      "source": [
        "**Reasoning**:\n",
        "Add a new column 'Completed 3+ Hours' to the dataframe and populate it based on whether 'Total Hours' is greater than or equal to 3.\n",
        "\n"
      ]
    },
    {
      "cell_type": "code",
      "execution_count": null,
      "metadata": {
        "id": "92bdeed8"
      },
      "outputs": [],
      "source": [
        "df_parking_hours['Completed 3+ Hours'] = df_parking_hours['Total Hours'] >= 3\n",
        "display(df_parking_hours[['Total Hours', 'Completed 3+ Hours']].head())"
      ]
    },
    {
      "cell_type": "markdown",
      "metadata": {
        "id": "aab07b2c"
      },
      "source": [
        "## Visualize the distribution\n",
        "\n",
        "### Subtask:\n",
        "Create a visualization to show the distribution of families who have completed 3 hours and those who have not.\n"
      ]
    },
    {
      "cell_type": "markdown",
      "metadata": {
        "id": "5ce5b232"
      },
      "source": [
        "**Reasoning**:\n",
        "Create a countplot to visualize the distribution of families based on whether they completed 3 or more hours, add title and labels to the plot.\n",
        "\n"
      ]
    },
    {
      "cell_type": "code",
      "execution_count": null,
      "metadata": {
        "id": "7a81d4c5"
      },
      "outputs": [],
      "source": [
        "import seaborn as sns\n",
        "import matplotlib.pyplot as plt\n",
        "\n",
        "plt.figure(figsize=(8, 6))\n",
        "sns.countplot(x='Completed 3+ Hours', data=df_parking_hours)\n",
        "plt.title('Distribution of Families by Completion of 3+ Parking Hours')\n",
        "plt.xlabel('Completed 3+ Hours')\n",
        "plt.ylabel('Number of Families')\n",
        "plt.show()"
      ]
    },
    {
      "cell_type": "markdown",
      "metadata": {
        "id": "08c1b455"
      },
      "source": [
        "# Task\n",
        "List the families who have not completed their required 3 hours of parking volunteering and calculate the amount owing for each."
      ]
    },
    {
      "cell_type": "code",
      "execution_count": null,
      "metadata": {
        "id": "3f72ca37"
      },
      "outputs": [],
      "source": [
        "df_owing_families = df_parking_hours[df_parking_hours['Completed 3+ Hours'] == False]\n",
        "display(df_owing_families.head())"
      ]
    },
    {
      "cell_type": "code",
      "execution_count": null,
      "metadata": {
        "id": "f9eeb85a"
      },
      "outputs": [],
      "source": [
        "# Assume a cost per hour\n",
        "COST_PER_HOUR = 20\n",
        "\n",
        "# Calculate remaining hours\n",
        "df_owing_families['Hours Owing'] = 3 - df_owing_families['Total Hours']\n",
        "\n",
        "# Calculate the amount owing\n",
        "df_owing_families['Amount Owing'] = df_owing_families['Hours Owing'] * COST_PER_HOUR\n",
        "\n",
        "# Display the head of the updated DataFrame\n",
        "display(df_owing_families[['Last Name', 'First Name', 'Total Hours', 'Hours Owing', 'Amount Owing']].head())"
      ]
    },
    {
      "cell_type": "code",
      "execution_count": null,
      "metadata": {
        "id": "456975ed"
      },
      "outputs": [],
      "source": [
        "# Select the specified columns\n",
        "df_owing_families_report = df_owing_families[['Last Name', 'First Name', 'Amount Owing']]\n",
        "\n",
        "# Display the selected columns\n",
        "display(df_owing_families_report)"
      ]
    },
    {
      "cell_type": "markdown",
      "metadata": {
        "id": "hHr726tRtT6o"
      },
      "source": []
    },
    {
      "cell_type": "code",
      "execution_count": null,
      "metadata": {
        "id": "01c0de8e"
      },
      "outputs": [],
      "source": [
        "%pip install xlsxwriter\n",
        "\n",
        "import xlsxwriter\n",
        "# Construct the full path for the new Excel file\n",
        "fines_file_path = f'{parking_dir}/parking-hours-{REPORT_DATE_STR}-fines.xlsx'\n",
        "\n",
        "# Save the DataFrame to an Excel file with column width formatting\n",
        "try:\n",
        "    writer = pd.ExcelWriter(fines_file_path, engine='xlsxwriter')\n",
        "    df_not_completed_report.to_excel(writer, index=False, sheet_name='Fines Report')\n",
        "\n",
        "    # Get the xlsxwriter workbook and worksheet objects.\n",
        "    workbook  = writer.book\n",
        "    worksheet = writer.sheets['Fines Report']\n",
        "\n",
        "    # Auto-adjust column widths\n",
        "    for i, col in enumerate(df_not_completed_report.columns):\n",
        "        max_len = max(df_not_completed_report[col].astype(str).str.len().max(), len(col)) + 2\n",
        "        worksheet.set_column(i, i, max_len)\n",
        "\n",
        "    writer.close()\n",
        "    print(f\"Successfully saved the fines report to {fines_file_path} with formatted column widths.\")\n",
        "except Exception as e:\n",
        "    print(f\"An error occurred while saving the file: {e}\")"
      ]
    },
    {
      "cell_type": "code",
      "execution_count": null,
      "metadata": {
        "id": "485ef608"
      },
      "outputs": [],
      "source": [
        "# Filter for families who have not completed 3+ hours\n",
        "df_not_completed = df_parking_hours[df_parking_hours['Total Hours'] < 3].copy()\n",
        "\n",
        "# Calculate remaining hours\n",
        "df_not_completed['Hours Remaining'] = 3 - df_not_completed['Total Hours']\n",
        "\n",
        "# Calculate the fine amount (assuming a $100 fine per remaining hour)\n",
        "FINE_PER_HOUR = 100\n",
        "df_not_completed['Fine Amount'] = df_not_completed['Hours Remaining'] * FINE_PER_HOUR\n",
        "\n",
        "# Select and display the desired columns\n",
        "df_not_completed_report = df_not_completed[['Last Name', 'First Name', 'Finished Hours', 'Hours Remaining', 'Fine Amount']]\n",
        "display(df_not_completed_report)"
      ]
    }
  ],
  "metadata": {
    "colab": {
      "name": "google_drive_reporting.ipynb",
      "provenance": [],
      "include_colab_link": true
    },
    "kernelspec": {
      "display_name": "Python 3 (ipykernel)",
      "language": "python",
      "name": "python3"
    },
    "language_info": {
      "codemirror_mode": {
        "name": "ipython",
        "version": 3
      },
      "file_extension": ".py",
      "mimetype": "text/x-python",
      "name": "python",
      "nbconvert_exporter": "python",
      "pygments_lexer": "ipython3",
      "version": "3.11.6"
    }
  },
  "nbformat": 4,
  "nbformat_minor": 0
}