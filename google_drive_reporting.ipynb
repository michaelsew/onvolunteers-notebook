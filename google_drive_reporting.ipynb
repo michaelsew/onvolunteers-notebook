{
 "cells": [
  {
   "cell_type": "markdown",
   "metadata": {},
   "source": [
    "# Google Drive Data Reporting and Visualization Notebook\n",
    "\n",
    "This notebook connects to Google Drive, reads data from a Google Sheet, and generates a sample report and visualization. Follow the steps below to get started."
   ]
  },
  {
   "cell_type": "markdown",
   "metadata": {},
   "source": [
    "## Step 1: Install Necessary Libraries"
   ]
  },
  {
   "cell_type": "code",
   "execution_count": null,
   "metadata": {},
   "outputs": [],
   "source": [
    "!pip install gspread google-auth-oauthlib pandas openpyxl"
   ]
  },
  {
   "cell_type": "markdown",
   "metadata": {},
   "source": [
    "## Step 2: Authenticate and Mount Google Drive\n",
    "\n",
    "Run the following cell and follow the link to authorize access to your Google Drive. You'll need to copy the authorization code and paste it into the input box."
   ]
  },
  {
   "cell_type": "code",
   "execution_count": null,
   "metadata": {},
   "outputs": [],
   "source": [
    "from google.colab import drive\n",
    "drive.mount('/content/drive')"
   ]
  },
  {
   "cell_type": "markdown",
   "metadata": {},
   "source": [
    "## Step 3: Authenticate with Google Sheets API and Load Data\n",
    "\n",
    "This section will authenticate with the Google Sheets API and attempt to load your specified Excel file from Google Drive into a pandas DataFrame. **Remember to replace `REPORT_DATE` with your desired date.**"
   ]
  },
  {
   "cell_type": "code",
   "execution_count": null,
   "metadata": {},
   "outputs": [],
   "source": [
    "from google.colab import auth\n",
    "auth.authenticate_user()\n",
    "\n",
    "import gspread\n",
    "from google.auth import default\n",
    "import pandas as pd\n",
    "import os\n",
    "\n",
    "creds, _ = default()\n",
    "gc = gspread.authorize(creds)\n",
    "\n",
    "# --- Configuration ---\n",
    "REPORT_DATE = \"2025-08-07\"  # <--- SET YOUR DESIRED REPORT DATE HERE (YYYY-MM-DD)\n",
    "\n",
    "# Construct the full path to the file in Google Drive\n",
    "# Adjust this path if your folder structure is different\n",
    "folder_path = '/content/drive/My Drive/PTA 2025-2026 SHARED FOLDER/Subcommittees/OnVolunteers/reports/parking-hours'\n",
    "file_name = f'parking-hours-{REPORT_DATE}.xlsx'\n",
    "full_file_path = os.path.join(folder_path, file_name)\n",
    "\n",
    "print(f\"Attempting to load file: {full_file_path}\")\n",
    "\n",
    "try:\n",
    "    # Check if the file exists in the mounted Drive\n",
    "    if not os.path.exists(full_file_path):\n",
    "        raise FileNotFoundError(f\"File not found at {full_file_path}\")\n",
    "\n",
    "    # Read the Excel file into a pandas DataFrame\n",
    "    # openpyxl is required for .xlsx files\n",
    "    df = pd.read_excel(full_file_path)\n",
    "    print(f\"Successfully loaded {len(df)} rows from '{file_name}'.\")\n",
    "    print(\"Data Head:\")\n",
    "    print(df.head())\n",
    "\n",
    "except FileNotFoundError as e:\n",
    "    print(f\"Error: {e}. Please ensure the file exists and Google Drive is mounted correctly.\")\n",
    "except Exception as e:\n",
    "    print(f\"An unexpected error occurred: {e}\")"
   ]
  }
 ],
 "metadata": {
  "colab": {
   "name": "Google Drive Reporting.ipynb",
   "provenance": []
  },
  "kernelspec": {
   "display_name": "Python 3",
   "name": "python3"
  },
  "language_info": {
   "name": "python"
  }
 },
 "nbformat": 4,
 "nbformat_minor": 0
}