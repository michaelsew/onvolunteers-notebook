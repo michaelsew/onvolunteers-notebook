{
  "cells": [
    {
      "cell_type": "markdown",
      "metadata": {
        "colab_type": "text",
        "id": "view-in-github"
      },
      "source": [
        "<a href=\"https://colab.research.google.com/github/michaelsew/onvolunteers-notebook/blob/test-gemini-local-fix/google_drive_reporting.ipynb\" target=\"_parent\"><img src=\"https://colab.research.google.com/assets/colab-badge.svg\" alt=\"Open In Colab\"/></a>"
      ]
    },
    {
      "cell_type": "markdown",
      "metadata": {
        "id": "SYyN7YKJmib-"
      },
      "source": [
        "# Login to OnVolunteers"
      ]
    },
    {
      "cell_type": "code",
      "execution_count": null,
      "metadata": {
        "colab": {
          "base_uri": "https://localhost:8080/"
        },
        "collapsed": true,
        "id": "vqvxSkUEJnMv",
        "outputId": "cbc71ef6-c6d2-4c0c-e8d1-4432f96894cd"
      },
      "outputs": [],
      "source": [
        "%pip install --upgrade --quiet  playwright > /dev/null\n",
        "%pip install --upgrade --quiet  lxml > /dev/null\n",
        "!playwright install --with-deps chromium  #Chrome"
      ]
    },
    {
      "cell_type": "markdown",
      "metadata": {
        "id": "SvZzVuGJJ_dP"
      },
      "source": [
        "**Add OnVolunteers Username & Password to your Secrets**\n",
        "\n",
        "1. On the left panel, click the \"Key\" icon\n",
        "1. Click \"Add new secret\" named `ov_username`, value = your OV admin user\n",
        "1. Click \"Add new secret\" with name `ov_password`, filling in your password.\n",
        "1. Click \"Notebook access\" to enable BOTH.\n",
        "\n",
        "![Screenshot 2025-08-16 at 7.15.09 AM.png](data:image/png;base64,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)\n",
        "\n",
        "\n"
      ]
    },
    {
      "cell_type": "markdown",
      "metadata": {
        "id": "EndtDsoAPWvY"
      },
      "source": [
        "Login to OnVolunteers with your Admin Username & Password in One Click:"
      ]
    },
    {
      "cell_type": "code",
      "execution_count": null,
      "metadata": {
        "colab": {
          "base_uri": "https://localhost:8080/"
        },
        "id": "S_9CQTi2miOM",
        "outputId": "e5c45fb4-092c-43c0-87c7-470299d70460"
      },
      "outputs": [],
      "source": [
        "# Login to OnVolunteers with google colab secret's Username & Password.\n",
        "# Should land us on the homepage.\n",
        "import asyncio\n",
        "from playwright.async_api import async_playwright\n",
        "from google.colab import userdata\n",
        "\n",
        "async def login_to_onvolunteers():\n",
        "    async with async_playwright() as p:\n",
        "        # Launch browser in headless mode\n",
        "        browser = await p.chromium.launch(headless=True)\n",
        "        page = await browser.new_page()\n",
        "\n",
        "        # Navigate to the login page\n",
        "        await page.goto(\"http://sfx.onvolunteers.com\")\n",
        "\n",
        "        # Click the \"Administrator Click Here\" link\n",
        "        await page.get_by_role(\"link\", name=\"Administrator Click Here \").click()\n",
        "\n",
        "        # Get username and password from google colab secrets\n",
        "        from google.colab import userdata\n",
        "        username = userdata.get(\"ov_username\")\n",
        "        password = userdata.get(\"ov_password\")\n",
        "\n",
        "        # Fill in the username and password\n",
        "        await page.get_by_placeholder(\"username or email\").fill(username)\n",
        "        await page.get_by_placeholder(\"password\").fill(password)\n",
        "\n",
        "        # Click the login button\n",
        "        await page.get_by_role(\"link\", name=\"Login\").click()\n",
        "\n",
        "        # Wait for navigation to complete\n",
        "        await page.wait_for_url(\"https://portal.onvolunteers.com/Default.aspx\")\n",
        "\n",
        "        print(\"Successfully logged in to SFX OnVolunteers.\")\n",
        "\n",
        "        #await browser.close() # leave browser open for further actions\n",
        "\n",
        "await login_to_onvolunteers()"
      ]
    },
    {
      "cell_type": "code",
      "execution_count": null,
      "metadata": {
        "colab": {
          "base_uri": "https://localhost:8080/",
          "height": 356
        },
        "id": "htf6pf3AO73K",
        "outputId": "a6897fa4-9df7-428b-d835-3b2cf54b68a1"
      },
      "outputs": [],
      "source": [
        "async def get_reports_list():\n",
        "    async with async_playwright() as p:\n",
        "\n",
        "        # Hover over the \"Reports\" menu\n",
        "        await page.get_by_role(\"link\", name=\" Reports\").hover()\n",
        "\n",
        "        # Click the \"Built-in Reports\" link\n",
        "        await page.get_by_role(\"link\", name=\"Built-in Reports\").click()\n",
        "\n",
        "        # Wait for the reports page to load\n",
        "        await page.wait_for_url(\"https://portal.onvolunteers.com/Report.aspx\")\n",
        "\n",
        "        # Get the report options from the combobox\n",
        "        report_options_text = await page.get_by_role(\"combobox\").inner_text()\n",
        "        report_options = report_options_text.split('\\n')\n",
        "\n",
        "        print(\"Available reports:\")\n",
        "        for option in report_options:\n",
        "            if option != \"Select Report\":\n",
        "                print(option)\n",
        "\n",
        "        await browser.close()\n",
        "\n",
        "await get_reports_list()"
      ]
    },
    {
      "cell_type": "markdown",
      "metadata": {
        "id": "607c5ccc"
      },
      "source": [
        "## Parking Hours Report Generation\n",
        "\n",
        "This notebook helps generate a parking hours report from an Excel file stored in Google Drive.\n",
        "\n",
        "**Instructions:**\n",
        "\n",
        "1.  **Set the Report Date:** In the code cell below, set the `REPORT_DATE_STR` variable to the desired date for the report in \"YYYY-MM-DD\" format.\n",
        "1.  **Connect to Google Drive:** Run the code cell to connect and authorize access to your Google Drive."
      ]
    },
    {
      "cell_type": "code",
      "execution_count": null,
      "metadata": {
        "id": "411a79b4"
      },
      "outputs": [],
      "source": [
        "# Set the report date in YYYY-MM-DD format\n",
        "REPORT_DATE_STR = \"2025-08-07\"\n",
        "\n",
        "# Connect to Google Drive and authorize\n",
        "from google.colab import drive\n",
        "drive.mount('/content/drive', force_remount=True)"
      ]
    },
    {
      "cell_type": "markdown",
      "metadata": {
        "id": "uQjjqYBf8dZs"
      },
      "source": [
        "**Generate Report:** load the Parking hours folder"
      ]
    },
    {
      "cell_type": "code",
      "execution_count": null,
      "metadata": {
        "id": "FTbucJfe8luJ"
      },
      "outputs": [],
      "source": [
        "import pandas as pd\n",
        "from datetime import datetime\n",
        "\n",
        "REPORT_DATE = datetime.strptime(REPORT_DATE_STR, \"%Y-%m-%d\").date()\n",
        "\n",
        "# Construct the directory path\n",
        "parking_dir = f'/content/drive/My Drive/PTA 2025-2026 SHARED FOLDER/Subcommittees/OnVolunteers/Reports/parking-hours'\n",
        "parking_file = f'{parking_dir}/parking-hours-{REPORT_DATE_STR}.xlsx'\n",
        "\n",
        "# Load the Excel file into a pandas DataFrame\n",
        "try:\n",
        "    df_parking_hours = pd.read_excel(parking_file)\n",
        "    print(f\"Successfully loaded data from {parking_file}\")\n",
        "    # Display the head of the loaded DataFrame\n",
        "    display(df_parking_hours.head())\n",
        "except FileNotFoundError:\n",
        "    print(f\"Error: File not found at {parking_file}\")\n",
        "except Exception as e:\n",
        "    print(f\"An error occurred: {e}\")\n"
      ]
    },
    {
      "cell_type": "markdown",
      "metadata": {
        "id": "zFq_Evb48pf5"
      },
      "source": [
        "Read Volunteer-Hours report (from `PTA 2025-2026 SHARED FOLDER/Subcommittees/OnVolunteers/Reports/volunteer-hours`)"
      ]
    },
    {
      "cell_type": "code",
      "execution_count": null,
      "metadata": {
        "id": "jiVfUHNnlelm"
      },
      "outputs": [],
      "source": [
        "import pandas as pd\n",
        "from datetime import datetime\n",
        "\n",
        "# Construct the directory path\n",
        "volunteer_hours_dir = f'/content/drive/My Drive/PTA 2025-2026 SHARED FOLDER/Subcommittees/OnVolunteers/Reports/volunteer-hours'\n",
        "volunteer_hours_file = f'{volunteer_hours_dir}/volunteer-hours-{REPORT_DATE_STR}.xlsx'\n",
        "\n",
        "# Load the Excel file into a pandas DataFrame\n",
        "try:\n",
        "    df_volunteer_hours = pd.read_excel(volunteer_hours_file)\n",
        "    print(f\"Successfully loaded data from {volunteer_hours_file}\")\n",
        "    # Display the head of the loaded DataFrame\n",
        "    display(df_volunteer_hours.head())\n",
        "except FileNotFoundError:\n",
        "    print(f\"Error: File not found at {volunteer_hours_file}\")\n",
        "except Exception as e:\n",
        "    print(f\"An error occurred: {e}\")\n"
      ]
    },
    {
      "cell_type": "code",
      "execution_count": null,
      "metadata": {
        "id": "LEK5f4m78YFQ"
      },
      "outputs": [],
      "source": [
        "from matplotlib import pyplot as plt\n",
        "import seaborn as sns\n",
        "_df_1.groupby('First Name').size().plot(kind='barh', color=sns.palettes.mpl_palette('Dark2'))\n",
        "plt.gca().spines[['top', 'right',]].set_visible(False)"
      ]
    },
    {
      "cell_type": "markdown",
      "metadata": {
        "id": "bed67268"
      },
      "source": [
        "# Task\n",
        "Analyze the parking data in the dataframe to determine and visualize the distribution of families who have completed 3 or more hours of parking versus those who have not."
      ]
    },
    {
      "cell_type": "markdown",
      "metadata": {
        "id": "ec402cff"
      },
      "source": [
        "## Calculate completed hours\n",
        "\n",
        "### Subtask:\n",
        "Determine which families have completed 3 or more hours and which have not.\n"
      ]
    },
    {
      "cell_type": "markdown",
      "metadata": {
        "id": "6622dc36"
      },
      "source": [
        "**Reasoning**:\n",
        "Add a new column 'Completed 3+ Hours' to the dataframe and populate it based on whether 'Total Hours' is greater than or equal to 3.\n",
        "\n"
      ]
    },
    {
      "cell_type": "code",
      "execution_count": null,
      "metadata": {
        "id": "92bdeed8"
      },
      "outputs": [],
      "source": [
        "df_parking_hours['Completed 3+ Hours'] = df_parking_hours['Total Hours'] >= 3\n",
        "display(df_parking_hours[['Total Hours', 'Completed 3+ Hours']].head())"
      ]
    },
    {
      "cell_type": "markdown",
      "metadata": {
        "id": "aab07b2c"
      },
      "source": [
        "## Visualize the distribution\n",
        "\n",
        "### Subtask:\n",
        "Create a visualization to show the distribution of families who have completed 3 hours and those who have not.\n"
      ]
    },
    {
      "cell_type": "markdown",
      "metadata": {
        "id": "5ce5b232"
      },
      "source": [
        "**Reasoning**:\n",
        "Create a countplot to visualize the distribution of families based on whether they completed 3 or more hours, add title and labels to the plot.\n",
        "\n"
      ]
    },
    {
      "cell_type": "code",
      "execution_count": null,
      "metadata": {
        "id": "7a81d4c5"
      },
      "outputs": [],
      "source": [
        "import seaborn as sns\n",
        "import matplotlib.pyplot as plt\n",
        "\n",
        "plt.figure(figsize=(8, 6))\n",
        "sns.countplot(x='Completed 3+ Hours', data=df_parking_hours)\n",
        "plt.title('Distribution of Families by Completion of 3+ Parking Hours')\n",
        "plt.xlabel('Completed 3+ Hours')\n",
        "plt.ylabel('Number of Families')\n",
        "plt.show()"
      ]
    },
    {
      "cell_type": "markdown",
      "metadata": {
        "id": "08c1b455"
      },
      "source": [
        "# Task\n",
        "List the families who have not completed their required 3 hours of parking volunteering and calculate the amount owing for each."
      ]
    },
    {
      "cell_type": "code",
      "execution_count": null,
      "metadata": {
        "id": "3f72ca37"
      },
      "outputs": [],
      "source": [
        "df_owing_families = df_parking_hours[df_parking_hours['Completed 3+ Hours'] == False]\n",
        "display(df_owing_families.head())"
      ]
    },
    {
      "cell_type": "code",
      "execution_count": null,
      "metadata": {
        "id": "f9eeb85a"
      },
      "outputs": [],
      "source": [
        "# Assume a cost per hour\n",
        "COST_PER_HOUR = 20\n",
        "\n",
        "# Calculate remaining hours\n",
        "df_owing_families['Hours Owing'] = 3 - df_owing_families['Total Hours']\n",
        "\n",
        "# Calculate the amount owing\n",
        "df_owing_families['Amount Owing'] = df_owing_families['Hours Owing'] * COST_PER_HOUR\n",
        "\n",
        "# Display the head of the updated DataFrame\n",
        "display(df_owing_families[['Last Name', 'First Name', 'Total Hours', 'Hours Owing', 'Amount Owing']].head())"
      ]
    },
    {
      "cell_type": "code",
      "execution_count": null,
      "metadata": {
        "id": "456975ed"
      },
      "outputs": [],
      "source": [
        "# Select the specified columns\n",
        "df_owing_families_report = df_owing_families[['Last Name', 'First Name', 'Amount Owing']]\n",
        "\n",
        "# Display the selected columns\n",
        "display(df_owing_families_report)"
      ]
    },
    {
      "cell_type": "markdown",
      "metadata": {
        "id": "hHr726tRtT6o"
      },
      "source": []
    },
    {
      "cell_type": "code",
      "execution_count": null,
      "metadata": {
        "id": "01c0de8e"
      },
      "outputs": [],
      "source": [
        "%pip install xlsxwriter\n",
        "\n",
        "import xlsxwriter\n",
        "# Construct the full path for the new Excel file\n",
        "fines_file_path = f'{parking_dir}/parking-hours-{REPORT_DATE_STR}-fines.xlsx'\n",
        "\n",
        "# Save the DataFrame to an Excel file with column width formatting\n",
        "try:\n",
        "    writer = pd.ExcelWriter(fines_file_path, engine='xlsxwriter')\n",
        "    df_not_completed_report.to_excel(writer, index=False, sheet_name='Fines Report')\n",
        "\n",
        "    # Get the xlsxwriter workbook and worksheet objects.\n",
        "    workbook  = writer.book\n",
        "    worksheet = writer.sheets['Fines Report']\n",
        "\n",
        "    # Auto-adjust column widths\n",
        "    for i, col in enumerate(df_not_completed_report.columns):\n",
        "        max_len = max(df_not_completed_report[col].astype(str).str.len().max(), len(col)) + 2\n",
        "        worksheet.set_column(i, i, max_len)\n",
        "\n",
        "    writer.close()\n",
        "    print(f\"Successfully saved the fines report to {fines_file_path} with formatted column widths.\")\n",
        "except Exception as e:\n",
        "    print(f\"An error occurred while saving the file: {e}\")"
      ]
    },
    {
      "cell_type": "code",
      "execution_count": null,
      "metadata": {
        "id": "485ef608"
      },
      "outputs": [],
      "source": [
        "# Filter for families who have not completed 3+ hours\n",
        "df_not_completed = df_parking_hours[df_parking_hours['Total Hours'] < 3].copy()\n",
        "\n",
        "# Calculate remaining hours\n",
        "df_not_completed['Hours Remaining'] = 3 - df_not_completed['Total Hours']\n",
        "\n",
        "# Calculate the fine amount (assuming a $100 fine per remaining hour)\n",
        "FINE_PER_HOUR = 100\n",
        "df_not_completed['Fine Amount'] = df_not_completed['Hours Remaining'] * FINE_PER_HOUR\n",
        "\n",
        "# Select and display the desired columns\n",
        "df_not_completed_report = df_not_completed[['Last Name', 'First Name', 'Finished Hours', 'Hours Remaining', 'Fine Amount']]\n",
        "display(df_not_completed_report)"
      ]
    }
  ],
  "metadata": {
    "colab": {
      "include_colab_link": true,
      "name": "google_drive_reporting.ipynb",
      "provenance": []
    },
    "kernelspec": {
      "display_name": "Python 3 (ipykernel)",
      "language": "python",
      "name": "python3"
    },
    "language_info": {
      "codemirror_mode": {
        "name": "ipython",
        "version": 3
      },
      "file_extension": ".py",
      "mimetype": "text/x-python",
      "name": "python",
      "nbconvert_exporter": "python",
      "pygments_lexer": "ipython3",
      "version": "3.11.6"
    }
  },
  "nbformat": 4,
  "nbformat_minor": 0
}
