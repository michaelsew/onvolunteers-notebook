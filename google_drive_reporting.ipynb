{
  "cells": [
    {
      "cell_type": "markdown",
      "metadata": {
        "colab_type": "text",
        "id": "view-in-github"
      },
      "source": [
        "<a href=\"https://colab.research.google.com/github/michaelsew/onvolunteers-notebook/blob/main/google_drive_reporting.ipynb\" target=\"_parent\"><img src=\"https://colab.research.google.com/assets/colab-badge.svg\" alt=\"Open In Colab\"/></a>"
      ]
    },
    {
      "cell_type": "code",
      "execution_count": null,
      "metadata": {
        "id": "OBlXh7KxrV21"
      },
      "outputs": [],
      "source": []
    },
    {
      "cell_type": "markdown",
      "metadata": {
        "id": "607c5ccc"
      },
      "source": [
        "## Parking Hours Report Generation\n",
        "\n",
        "This notebook helps generate a parking hours report from an Excel file stored in Google Drive.\n",
        "\n",
        "**Instructions:**\n",
        "\n",
        "1.  **Set the Report Date:** In the code cell below, set the `REPORT_DATE_STR` variable to the desired date for the report in \"YYYY-MM-DD\" format.\n",
        "2.  **Connect to Google Drive:** Run the next code cell to connect and authorize access to your Google Drive.\n",
        "3.  **Generate Report:** Run the remaining cells to load the data and generate the report."
      ]
    },
    {
      "cell_type": "code",
      "execution_count": null,
      "metadata": {
        "id": "411a79b4"
      },
      "outputs": [],
      "source": [
        "# Set the report date in YYYY-MM-DD format\n",
        "REPORT_DATE_STR = \"2025-08-07\""
      ]
    },
    {
      "cell_type": "code",
      "execution_count": null,
      "metadata": {
        "id": "58ee68e8"
      },
      "outputs": [],
      "source": [
        "# Connect to Google Drive and authorize\n",