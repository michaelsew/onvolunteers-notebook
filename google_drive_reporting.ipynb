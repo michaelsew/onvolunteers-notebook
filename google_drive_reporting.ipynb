{
  "cells": [
    {
      "cell_type": "markdown",
      "metadata": {
        "id": "view-in-github",
        "colab_type": "text"
      },
      "source": [
        "<a href=\"https://colab.research.google.com/github/michaelsew/onvolunteers-notebook/blob/main/google_drive_reporting.ipynb\" target=\"_parent\"><img src=\"https://colab.research.google.com/assets/colab-badge.svg\" alt=\"Open In Colab\"/></a>"
      ]
    },
    {
      "cell_type": "code",
      "execution_count": null,
      "metadata": {
        "id": "jiVfUHNnlelm"
      },
      "outputs": [],
      "source": [
        "from google.colab import drive\n",
        "import pandas as pd\n",
        "from datetime import datetime\n",
        "import os\n",
        "\n",
        "drive.mount('/content/drive', force_remount=True)\n",
        "\n",
        "# Configuration variable for the report date\n",
        "REPORT_DATE_STR = \"2025-08-07\"\n",
        "REPORT_DATE = datetime.strptime(REPORT_DATE_STR, \"%Y-%m-%d\").date()\n",
        "\n",
        "# Construct the directory path\n",
        "parking_dir = f'/content/drive/My Drive/PTA 2025-2026 SHARED FOLDER/Subcommittees/OnVolunteers/Reports/parking-hours'\n",
        "parking_file = f'{parking_dir}/parking-hours-{REPORT_DATE_STR}.xlsx'\n",
        "\n",
        "# Load the Excel file into a pandas DataFrame\n",
        "try:\n",
        "    df_parking_hours = pd.read_excel(parking_file)\n",
        "    print(f\"Successfully loaded data from {parking_file}\")\n",
        "    # Display the head of the loaded DataFrame\n",
        "    display(df_parking_hours.head())\n",
        "except FileNotFoundError:\n",
        "    print(f\"Error: File not found at {parking_file}\")\n",
        "except Exception as e:\n",
        "    print(f\"An error occurred: {e}\")\n"
      ]
    }
  ],
  "metadata": {
    "colab": {
      "name": "google_drive_reporting.ipynb",
      "provenance": [],
      "include_colab_link": true
    },
    "kernelspec": {
      "display_name": "Python 3",
      "name": "python3"
    },
    "language_info": {
      "name": "python"
    }
  },
  "nbformat": 4,
  "nbformat_minor": 0
}