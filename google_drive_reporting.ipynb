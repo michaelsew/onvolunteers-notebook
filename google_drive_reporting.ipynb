{
 "cells": [
  {
   "cell_type": "markdown",
   "metadata": {
    "colab_type": "text",
    "id": "view-in-github"
   },
   "source": [
    "<a href=\"https://colab.research.google.com/github/michaelsew/onvolunteers-notebook/blob/main/google_drive_reporting.ipynb\" target=\"_parent\"><img src=\"https://colab.research.google.com/assets/colab-badge.svg\" alt=\"Open In Colab\"/></a>"
   ]
  },
  {
   "cell_type": "code",
   "execution_count": null,
   "metadata": {
    "colab": {
     "base_uri": "https://localhost:8080/",
     "height": 108
    },
    "id": "MKU3MEf1pOJq",
    "outputId": "f855ef1c-dfe5-4f70-fdfd-5a63ea9cf53e",
    "scrolled": true
   },
   "outputs": [],
   "source": [
    "%pip install playwright --progress-bar off\n",
    "!playwright install"
   ]
  },
  {
   "cell_type": "markdown",
   "metadata": {
    "id": "SYyN7YKJmib-"
   },
   "source": [
    "# Login to OnVolunteers"
   ]
  },
  {
   "cell_type": "code",
   "execution_count": null,
   "metadata": {
    "id": "S_9CQTi2miOM"
   },
   "outputs": [],
   "source": [
    "import asyncio\n",
    "from playwright.async_api import async_playwright\n",
    "from google.colab import userdata\n",
    "\n",
    "async def login_to_onvolunteers():\n",
    "    async with async_playwright() as p:\n",
    "        # Launch browser in headless mode\n",
    "        browser = await p.chromium.launch(headless=True)\n",
    "        page = await browser.new_page()\n",
    "\n",
    "        # Navigate to the login page\n",
    "        await page.goto(\"http://sfx.onvolunteers.com\")\n",
    "\n",
    "        # Click the link to switch to administrator login\n",
    "        await page.click(\"a#btSwitch\")\n",
    "\n",
    "        # Wait for the Administrator Login text to appear\n",
    "        await page.wait_for_selector(\"text=Administrator Login\")\n",
    "\n",
    "        # Fill in the username and password from secrets\n",
    "        await page.fill(\"input#tbUsername\", userdata.get(\"ov_username\"))\n",
    "        await page.fill(\"input#tbPassword\", userdata.get(\"ov_password\"))\n",
    "\n",
    "        # Click the login button\n",
    "        await page.click(\"input#btLogin\")\n",
    "\n",
    "        # Wait for the home page text to appear\n",
    "        await page.wait_for_selector(\"text=SFX Parent Participation Program\")\n",
    "\n",
    "        print(\"Successfully logged in to SFX OnVolunteers.\")\n",
    "\n",
    "        # You can now interact with the page after successful login\n",
    "        # For example, to get the title of the page:\n",
    "        # print(await page.title())\n",
    "\n",
    "        await browser.close()\n",
    "\n",
    "await login_to_onvolunteers()"
   ]
  },
  {
   "cell_type": "markdown",
   "metadata": {
    "id": "607c5ccc"
   },
   "source": [
    "## Parking Hours Report Generation\n",
    "\n",
    "This notebook helps generate a parking hours report from an Excel file stored in Google Drive.\n",
    "\n",
    "**Instructions:**\n",
    "\n",
    "1.  **Set the Report Date:** In the code cell below, set the `REPORT_DATE_STR` variable to the desired date for the report in \"YYYY-MM-DD\" format.\n",
    "2.  **Connect to Google Drive:** Run the next code cell to connect and authorize access to your Google Drive.\n",
    "3.  **Generate Report:** Run the remaining cells to load the data and generate the report."
   ]
  },
  {
   "cell_type": "code",
   "execution_count": null,
   "metadata": {
    "id": "411a79b4"
   },
   "outputs": [],
   "source": [
    "# Set the report date in YYYY-MM-DD format\n",
    "REPORT_DATE_STR = \"2025-08-07\""
   ]
  },
  {
   "cell_type": "code",
   "execution_count": null,
   "metadata": {
    "id": "58ee68e8"
   },
   "outputs": [],
   "source": [
    "# Connect to Google Drive and authorize\n",
    "from google.colab import drive\n",
    "drive.mount('/content/drive', force_remount=True)"
   ]
  },
  {
   "cell_type": "code",
   "execution_count": null,
   "metadata": {
    "colab": {
     "base_uri": "https://localhost:8080/",
     "height": 919
    },
    "id": "jiVfUHNnlelm",
    "outputId": "7ac0b091-c243-455b-e5c4-f0e942dce8d4"
   },
   "outputs": [],
   "source": [
    "import pandas as pd\n",
    "from datetime import datetime\n",
    "\n",
    "REPORT_DATE = datetime.strptime(REPORT_DATE_STR, \"%Y-%m-%d\").date()\n",
    "\n",
    "# Construct the directory path\n",
    "parking_dir = f'/content/drive/My Drive/PTA 2025-2026 SHARED FOLDER/Subcommittees/OnVolunteers/Reports/parking-hours'\n",
    "parking_file = f'{parking_dir}/parking-hours-{REPORT_DATE_STR}.xlsx'\n",
    "\n",
    "# Load the Excel file into a pandas DataFrame\n",
    "try:\n",
    "    df_parking_hours = pd.read_excel(parking_file)\n",
    "    print(f\"Successfully loaded data from {parking_file}\")\n",
    "    # Display the head of the loaded DataFrame\n",
    "    display(df_parking_hours.head())\n",
    "except FileNotFoundError:\n",
    "    print(f\"Error: File not found at {parking_file}\")\n",
    "except Exception as e:\n",
    "    print(f\"An error occurred: {e}\")\n"
   ]
  },
  {
   "cell_type": "code",
   "execution_count": null,
   "metadata": {
    "id": "LEK5f4m78YFQ"
   },
   "outputs": [],
   "source": [
    "from matplotlib import pyplot as plt\n",
    "import seaborn as sns\n",
    "_df_1.groupby('First Name').size().plot(kind='barh', color=sns.palettes.mpl_palette('Dark2'))\n",
    "plt.gca().spines[['top', 'right',]].set_visible(False)"
   ]
  },
  {
   "cell_type": "code",
   "execution_count": null,
   "metadata": {
    "id": "JlyPM5uasHdL"
   },
   "outputs": [],
   "source": []
  },
  {
   "cell_type": "markdown",
   "metadata": {
    "id": "bed67268"
   },
   "source": [
    "# Task\n",
    "Analyze the parking data in the dataframe to determine and visualize the distribution of families who have completed 3 or more hours of parking versus those who have not."
   ]
  },
  {
   "cell_type": "markdown",
   "metadata": {
    "id": "ec402cff"
   },
   "source": [
    "## Calculate completed hours\n",
    "\n",
    "### Subtask:\n",
    "Determine which families have completed 3 or more hours and which have not.\n"
   ]
  },
  {
   "cell_type": "markdown",
   "metadata": {
    "id": "6622dc36"
   },
   "source": [
    "**Reasoning**:\n",
    "Add a new column 'Completed 3+ Hours' to the dataframe and populate it based on whether 'Total Hours' is greater than or equal to 3.\n",
    "\n"
   ]
  },
  {
   "cell_type": "code",
   "execution_count": null,
   "metadata": {
    "colab": {
     "base_uri": "https://localhost:8080/",
     "height": 206
    },
    "id": "92bdeed8",
    "outputId": "48b88951-aff2-47b0-b434-7131d420b0a0"
   },
   "outputs": [],
   "source": [
    "df_parking_hours['Completed 3+ Hours'] = df_parking_hours['Total Hours'] >= 3\n",
    "display(df_parking_hours[['Total Hours', 'Completed 3+ Hours']].head())"
   ]
  },
  {
   "cell_type": "markdown",
   "metadata": {
    "id": "aab07b2c"
   },
   "source": [
    "## Visualize the distribution\n",
    "\n",
    "### Subtask:\n",
    "Create a visualization to show the distribution of families who have completed 3 hours and those who have not.\n"
   ]
  },
  {
   "cell_type": "markdown",
   "metadata": {
    "id": "5ce5b232"
   },
   "source": [
    "**Reasoning**:\n",
    "Create a countplot to visualize the distribution of families based on whether they completed 3 or more hours, add title and labels to the plot.\n",
    "\n"
   ]
  },
  {
   "cell_type": "code",
   "execution_count": null,
   "metadata": {
    "colab": {
     "base_uri": "https://localhost:8080/",
     "height": 564
    },
    "id": "7a81d4c5",
    "outputId": "8b325a27-97cb-45ec-d5cd-399904b360d5"
   },
   "outputs": [],
   "source": [
    "import seaborn as sns\n",
    "import matplotlib.pyplot as plt\n",
    "\n",
    "plt.figure(figsize=(8, 6))\n",
    "sns.countplot(x='Completed 3+ Hours', data=df_parking_hours)\n",
    "plt.title('Distribution of Families by Completion of 3+ Parking Hours')\n",
    "plt.xlabel('Completed 3+ Hours')\n",
    "plt.ylabel('Number of Families')\n",
    "plt.show()"
   ]
  },
  {
   "cell_type": "markdown",
   "metadata": {
    "id": "8063a885"
   },
   "source": [
    "## Summary:\n",
    "\n",
    "### Data Analysis Key Findings\n",
    "\n",
    "* A new column 'Completed 3+ Hours' was added to the dataframe, indicating whether a family completed 3 or more hours of parking.\n",
    "* A countplot was generated to visualize the distribution of families based on whether they completed 3 or more hours of parking.\n",
    "\n",
    "### Insights or Next Steps\n",
    "\n",
    "* Analyze if there's a correlation between completing 3+ hours of parking and other factors like location or time of day.\n"
   ]
  },
  {
   "cell_type": "markdown",
   "metadata": {
    "id": "08c1b455"
   },
   "source": [
    "# Task\n",
    "List the families who have not completed their required 3 hours of parking volunteering and calculate the amount owing for each."
   ]
  },
  {
   "cell_type": "markdown",
   "metadata": {
    "id": "f083f1e2"
   },
   "source": [
    "## Identify families who have not completed 3+ hours\n",
    "\n",
    "### Subtask:\n",
    "Filter the DataFrame to select only the families where 'Completed 3+ Hours' is False.\n"
   ]
  },
  {
   "cell_type": "markdown",
   "metadata": {
    "id": "ef8ede0d"
   },
   "source": [
    "**Reasoning**:\n",
    "Filter the dataframe to include only families who have not completed 3 or more hours.\n",
    "\n"
   ]
  },
  {
   "cell_type": "code",
   "execution_count": null,
   "metadata": {
    "id": "3f72ca37"
   },
   "outputs": [],
   "source": [
    "df_owing_families = df_parking_hours[df_parking_hours['Completed 3+ Hours'] == False]\n",
    "display(df_owing_families.head())"
   ]
  },
  {
   "cell_type": "markdown",
   "metadata": {
    "id": "f62ed853"
   },
   "source": [
    "## Calculate amount owing\n",
    "\n",
    "### Subtask:\n",
    "For the families who have not completed their hours, calculate the amount owing based on the remaining hours.\n"
   ]
  },
  {
   "cell_type": "markdown",
   "metadata": {
    "id": "a2b7457c"
   },
   "source": [
    "**Reasoning**:\n",
    "Calculate the remaining hours and the amount owing for each family in the filtered dataframe, then display the updated dataframe.\n",
    "\n"
   ]
  },
  {
   "cell_type": "code",
   "execution_count": null,
   "metadata": {
    "id": "f9eeb85a"
   },
   "outputs": [],
   "source": [
    "# Assume a cost per hour\n",
    "COST_PER_HOUR = 20\n",
    "\n",
    "# Calculate remaining hours\n",
    "df_owing_families['Hours Owing'] = 3 - df_owing_families['Total Hours']\n",
    "\n",
    "# Calculate the amount owing\n",
    "df_owing_families['Amount Owing'] = df_owing_families['Hours Owing'] * COST_PER_HOUR\n",
    "\n",
    "# Display the head of the updated DataFrame\n",
    "display(df_owing_families[['Last Name', 'First Name', 'Total Hours', 'Hours Owing', 'Amount Owing']].head())"
   ]
  },
  {
   "cell_type": "markdown",
   "metadata": {
    "id": "dc27f54e"
   },
   "source": [
    "## List families and amount owing\n",
    "\n",
    "### Subtask:\n",
    "Display a list of families who have not completed their hours along with the calculated amount owing.\n"
   ]
  },
  {
   "cell_type": "markdown",
   "metadata": {
    "id": "0175c047"
   },
   "source": [
    "**Reasoning**:\n",
    "Select and display the required columns from the DataFrame.\n",
    "\n"
   ]
  },
  {
   "cell_type": "code",
   "execution_count": null,
   "metadata": {
    "id": "456975ed"
   },
   "outputs": [],
   "source": [
    "# Select the specified columns\n",
    "df_owing_families_report = df_owing_families[['Last Name', 'First Name', 'Amount Owing']]\n",
    "\n",
    "# Display the selected columns\n",
    "display(df_owing_families_report)"
   ]
  },
  {
   "cell_type": "markdown",
   "metadata": {
    "id": "hHr726tRtT6o"
   },
   "source": []
  },
  {
   "cell_type": "code",
   "execution_count": null,
   "metadata": {
    "id": "01c0de8e"
   },
   "outputs": [],
   "source": [
    "%pip install xlsxwriter\n",
    "\n",
    "import xlsxwriter\n",
    "# Construct the full path for the new Excel file\n",
    "fines_file_path = f'{parking_dir}/parking-hours-{REPORT_DATE_STR}-fines.xlsx'\n",
    "\n",
    "# Save the DataFrame to an Excel file with column width formatting\n",
    "try:\n",
    "    writer = pd.ExcelWriter(fines_file_path, engine='xlsxwriter')\n",
    "    df_not_completed_report.to_excel(writer, index=False, sheet_name='Fines Report')\n",
    "\n",
    "    # Get the xlsxwriter workbook and worksheet objects.\n",
    "    workbook  = writer.book\n",
    "    worksheet = writer.sheets['Fines Report']\n",
    "\n",
    "    # Auto-adjust column widths\n",
    "    for i, col in enumerate(df_not_completed_report.columns):\n",
    "        max_len = max(df_not_completed_report[col].astype(str).str.len().max(), len(col)) + 2\n",
    "        worksheet.set_column(i, i, max_len)\n",
    "\n",
    "    writer.close()\n",
    "    print(f\"Successfully saved the fines report to {fines_file_path} with formatted column widths.\")\n",
    "except Exception as e:\n",
    "    print(f\"An error occurred while saving the file: {e}\")"
   ]
  },
  {
   "cell_type": "code",
   "execution_count": null,
   "metadata": {
    "id": "485ef608"
   },
   "outputs": [],
   "source": [
    "# Filter for families who have not completed 3+ hours\n",
    "df_not_completed = df_parking_hours[df_parking_hours['Total Hours'] < 3].copy()\n",
    "\n",
    "# Calculate remaining hours\n",
    "df_not_completed['Hours Remaining'] = 3 - df_not_completed['Total Hours']\n",
    "\n",
    "# Calculate the fine amount (assuming a $100 fine per remaining hour)\n",
    "FINE_PER_HOUR = 100\n",
    "df_not_completed['Fine Amount'] = df_not_completed['Hours Remaining'] * FINE_PER_HOUR\n",
    "\n",
    "# Select and display the desired columns\n",
    "df_not_completed_report = df_not_completed[['Last Name', 'First Name', 'Finished Hours', 'Hours Remaining', 'Fine Amount']]\n",
    "display(df_not_completed_report)"
   ]
  },
  {
   "cell_type": "code",
   "execution_count": null,
   "metadata": {
    "id": "0b4a9273"
   },
   "outputs": [],
   "source": []
  }
 ],
 "metadata": {
  "colab": {
   "include_colab_link": true,
   "name": "google_drive_reporting.ipynb",
   "provenance": []
  },
  "kernelspec": {
   "display_name": "Python 3 (ipykernel)",
   "language": "python",
   "name": "python3"
  },
  "language_info": {
   "codemirror_mode": {
    "name": "ipython",
    "version": 3
   },
   "file_extension": ".py",
   "mimetype": "text/x-python",
   "name": "python",
   "nbconvert_exporter": "python",
   "pygments_lexer": "ipython3",
   "version": "3.11.6"
  }
 },
 "nbformat": 4,
 "nbformat_minor": 4
}
