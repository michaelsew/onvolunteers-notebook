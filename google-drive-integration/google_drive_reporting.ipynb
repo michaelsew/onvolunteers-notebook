{
  "cells": [
    {
      "cell_type": "code",
      "execution_count": 12,
      "metadata": {
        "colab": {
          "base_uri": "https://localhost:8080/"
        },
        "id": "jiVfUHNnlelm",
        "outputId": "59c2430e-b9c0-4ee5-8a4d-0d6ac26d194f"
      },
      "outputs": [
        {
          "output_type": "stream",
          "name": "stdout",
          "text": [
            "Drive already mounted at /content/drive; to attempt to forcibly remount, call drive.mount(\"/content/drive\", force_remount=True).\n",
            "Error: Directory not found at /content/drive/My Drive/PTA 2025-2026 SHARED FOLDER/Subcommittees/OnVolunteers/reports/parking-hours\n",
            "\n",
            "Error: File not found at /content/drive/My Drive/PTA 2025-2026 SHARED FOLDER/Subcommittees/OnVolunteers/reports/parking-hours/parking-hours-2025-08-07.xlsx\n"
          ]
        }
      ],
      "source": [
        "from google.colab import drive\n",
        "import pandas as pd\n",
        "from datetime import datetime\n",
        "import os\n",
        "\n",
        "drive.mount('/content/drive')\n",
        "\n",
        "# Configuration variable for the report date\n",
        "REPORT_DATE_STR = \"2025-08-07\"\n",
        "REPORT_DATE = datetime.strptime(REPORT_DATE_STR, \"%Y-%m-%d\").date()\n",
        "\n",
        "# Construct the directory path\n",
        "directory_path = f'/content/drive/My Drive/PTA 2025-2026 SHARED FOLDER/Subcommittees/OnVolunteers/reports/parking-hours'\n",
        "\n",
        "# List files in the directory\n",
        "try:\n",
        "    files_in_directory = os.listdir(directory_path)\n",
        "    print(f\"Files in directory {directory_path}:\")\n",
        "    for file in files_in_directory:\n",
        "        print(file)\n",
        "except FileNotFoundError:\n",
        "    print(f\"Error: Directory not found at {directory_path}\")\n",
        "except Exception as e:\n",
        "    print(f\"An error occurred: {e}\")\n",
        "\n",
        "# Construct the file path\n",
        "file_path = f'{directory_path}/parking-hours-{REPORT_DATE_STR}.xlsx'\n",
        "\n",
        "# Load the Excel file into a pandas DataFrame\n",
        "try:\n",
        "    df_parking_hours = pd.read_excel(file_path)\n",
        "    print(f\"\\nSuccessfully loaded data from {file_path}\")\n",
        "    display(df_parking_hours.head())\n",
        "except FileNotFoundError:\n",
        "    print(f\"\\nError: File not found at {file_path}\")\n",
        "except Exception as e:\n",
        "    print(f\"\\nAn error occurred: {e}\")"
      ]
    },
    {
      "cell_type": "markdown",
      "metadata": {
        "id": "6a007ba0"
      },
      "source": [
        "# Task\n",
        "Modify the code to connect to Google Drive, list files in the directory \"My Drive/PTA 2025-2026 SHARED FOLDER/Subcommittees/OnVolunteers/reports/parking-hours\", and load the Excel file matching the pattern \"parking-hours-YYYY-MM-DD.xlsx\" where YYYY-MM-DD is determined by the `REPORT_DATE` variable."
      ]
    },
    {
      "cell_type": "markdown",
      "metadata": {
        "id": "3307343b"
      },
      "source": [
        "## List files in directory\n",
        "\n",
        "### Subtask:\n",
        "List the files in the target Google Drive directory to confirm the correct file name and path.\n"
      ]
    },
    {
      "cell_type": "markdown",
      "metadata": {
        "id": "027623a2"
      },
      "source": [
        "**Reasoning**:\n",
        "Import the os module and list the files in the specified directory to verify the file name.\n",
        "\n"
      ]
    },
    {
      "cell_type": "code",
      "metadata": {
        "colab": {
          "base_uri": "https://localhost:8080/"
        },
        "id": "90091190",
        "outputId": "d2638280-c9d1-40e0-8920-25be19983f4e"
      },
      "source": [
        "import os\n",
        "\n",
        "# Define the directory path\n",
        "directory_path = '/content/drive/My Drive/PTA 2025-2026 SHARED FOLDER/Subcommittees/OnVolunteers/reports/parking-hours'\n",
        "\n",
        "# List files in the directory\n",
        "try:\n",
        "    files_in_directory = os.listdir(directory_path)\n",
        "    print(f\"Files in directory {directory_path}:\")\n",
        "    for file in files_in_directory:\n",
        "        print(file)\n",
        "except FileNotFoundError:\n",
        "    print(f\"Error: Directory not found at {directory_path}\")\n",
        "except Exception as e:\n",
        "    print(f\"An error occurred: {e}\")"
      ],
      "execution_count": 6,
      "outputs": [
        {
          "output_type": "stream",
          "name": "stdout",
          "text": [
            "Error: Directory not found at /content/drive/My Drive/PTA 2025-2026 SHARED FOLDER/Subcommittees/OnVolunteers/reports/parking-hours\n"
          ]
        }
      ]
    },
    {
      "cell_type": "markdown",
      "metadata": {
        "id": "881825fe"
      },
      "source": [
        "## List files in directory retry 1\n",
        "\n",
        "### Subtask:\n",
        "Retry listing files in the target Google Drive directory to confirm the correct file name and path, addressing the previous FileNotFoundError.\n"
      ]
    },
    {
      "cell_type": "markdown",
      "metadata": {
        "id": "a3019c04"
      },
      "source": [
        "**Reasoning**:\n",
        "Retry listing files in the target Google Drive directory to confirm the correct file name and path, addressing the previous FileNotFoundError.\n",
        "\n"
      ]
    },
    {
      "cell_type": "code",
      "metadata": {
        "colab": {
          "base_uri": "https://localhost:8080/"
        },
        "id": "e7a212e4",
        "outputId": "093a35c2-16bb-4bd9-bee6-24126e3e9921"
      },
      "source": [
        "import os\n",
        "\n",
        "# Define the directory path\n",
        "directory_path = '/content/drive/My Drive/PTA 2025-2026 SHARED FOLDER/Subcommittees/OnVolunteers/reports/parking-hours'\n",
        "\n",
        "# List files in the directory\n",
        "try:\n",
        "    files_in_directory = os.listdir(directory_path)\n",
        "    print(f\"Files in directory {directory_path}:\")\n",
        "    for file in files_in_directory:\n",
        "        print(file)\n",
        "except FileNotFoundError:\n",
        "    print(f\"Error: Directory not found at {directory_path}\")\n",
        "except Exception as e:\n",
        "    print(f\"An error occurred: {e}\")"
      ],
      "execution_count": 10,
      "outputs": [
        {
          "output_type": "stream",
          "name": "stdout",
          "text": [
            "Error: Directory not found at /content/drive/My Drive/PTA 2025-2026 SHARED FOLDER/Subcommittees/OnVolunteers/reports/parking-hours\n"
          ]
        }
      ]
    },
    {
      "cell_type": "markdown",
      "metadata": {
        "id": "96ba5e66"
      },
      "source": [
        "## List files in directory retry 2\n",
        "\n",
        "### Subtask:\n",
        "Retry listing files in the target Google Drive directory to confirm the correct file name and path, addressing the persistent FileNotFoundError by suggesting potential causes and troubleshooting steps.\n"
      ]
    },
    {
      "cell_type": "markdown",
      "metadata": {
        "id": "2126f72e"
      },
      "source": [
        "**Reasoning**:\n",
        "To diagnose the persistent `FileNotFoundError`, I will first print the current working directory, then list the contents of the top-level mounted Google Drive directory `/content/drive/My Drive/` to confirm the drive is correctly mounted and accessible. This addresses steps 1 and 2 of the instructions.\n",
        "\n"
      ]
    },
    {
      "cell_type": "code",
      "metadata": {
        "colab": {
          "base_uri": "https://localhost:8080/"
        },
        "id": "0428a25c",
        "outputId": "0abe78a5-88e3-4d7e-bb0f-3c761964ad5d"
      },
      "source": [
        "import os\n",
        "\n",
        "# 1. Print the current working directory\n",
        "print(\"Current working directory:\", os.getcwd())\n",
        "\n",
        "# 2. Verify Google Drive mounting by listing top-level directory\n",
        "drive_root = '/content/drive/My Drive/'\n",
        "print(f\"\\nListing contents of {drive_root}:\")\n",
        "try:\n",
        "    top_level_contents = os.listdir(drive_root)\n",
        "    for item in top_level_contents:\n",
        "        print(item)\n",
        "except Exception as e:\n",
        "    print(f\"Error listing {drive_root}: {e}\")"
      ],
      "execution_count": 11,
      "outputs": [
        {
          "output_type": "stream",
          "name": "stdout",
          "text": [
            "Current working directory: /content\n",
            "\n",
            "Listing contents of /content/drive/My Drive/:\n",
            "media\n",
            "vikey\n",
            "MVI_3244.MOV\n",
            "MVI_3245.MOV\n",
            "music\n",
            "bills\n",
            "SFX DAYCARE application form.docx\n",
            "Google Photos\n",
            "housing\n",
            "Gifts\n",
            "prog\n",
            "receipts_mike\n",
            "NEW XMAS LIST Book1.xls\n",
            "New Recording.m4a\n",
            "Doc Oct 10, 2017, 00_14.pdf\n",
            "vancity\n",
            "Irser.gdoc\n",
            "PD_2018013897423.PDF\n",
            "Doc Mar 10, 2018, 16_53.pdf\n",
            "Memo to parents - March 8 2018.doc\n",
            "Doc May 02, 2018, 14:00.pdf\n",
            "PD_2018053897423.PDF\n",
            "pptc054-victoria-chan-passport-application.pdf\n",
            "Family.xls\n",
            "2018-08-02 great west life disability insurance policy premium.pdf\n",
            "WhatsApp Chat - Blades of Steel.zip\n",
            "2018-10-24 simplii michael chequing void cheque.pdf\n",
            "2018-10-25 Scotiabank Yukon watercolours variable mortgage rate change.pdf.pdf\n",
            "Doc Nov 05, 2018, 13:14.pdf\n",
            "2016-12-07 Belfor statement.pdf.pdf\n",
            "2017-10-14 IKEA knoppang frameset Omar shelf.pdf.pdf\n",
            "2018-05-07 Yukon bc hydro service warning.pdf.pdf\n",
            "2018-03-01-ikea-family-michael-Vicky-card.pdf.pdf\n",
            "Doc Nov 12, 2018, 14:53.pdf\n",
            "Milette door instructions.pdf.pdf\n",
            "Doc Apr 18, 2018, 19:56.pdf\n",
            "nuevo_hgvf404_kitchen_lamp.odf.pdf\n",
            "Doc Aug 04, 2017, 08:34.pdf\n",
            "Doc Apr 29, 2017, 17:16.pdf\n",
            "2018-04-01_506-2289 Yukon crescent rental agreement signed.pdf.pdf\n",
            "Doc Nov 26, 2018, 19:45.pdf\n",
            "2018-05-01 watercolours condition inspection return form.pdf.pdf\n",
            "MDScan PDFs\n",
            "michael sew birth certificate.pdf\n",
            "Products Comparison List - Trail Appliances.pdf\n",
            "2019-06-18 Canada revenue Michael audit request letter.pdf\n",
            "2019-09-09 SFX SEPTEMBER 2019 newsletter.pdf\n",
            "motomaster 09-0078 Tire rack Manual.pdf\n",
            "2019-10-07_tangerine_mc.pdf\n",
            "NOVEMBER 2019.docx\n",
            "2019-12-03 PTA onvolunteers Meeting Notes.gdoc\n",
            "2020-01-03-evite-guestlist.csv\n",
            "vistaprint_connor_birth_announcement_proof.pdf\n",
            "User Volunteer Hours 2020-02-07.gsheet\n",
            "2020-03-01 cheque to icbc victoria.pdf\n",
            "2019-09-10 cheque to icbc (1).pdf\n",
            "2019-09-10 cheque to icbc.pdf\n",
            "PowerPoint Presentation.pdf\n",
            "User Volunteer Hours 2020-05-04 with tempalte.xlsx\n",
            "Volunteer Hours 20200407.xlsx\n",
            "2019-08-01 yukon daycare - Memo to parents.doc\n",
            "https:  pts.burnaby.ca TempestPRD eHog Shared NotAvailable.aspx.pdf\n",
            "Class List 2020-2021 working copy.gsheet\n",
            "PTA Welcome 2020-2021.pdf\n",
            "September 7 letter to parents.gdoc\n",
            "PTA Welcome 2020-2021.gdoc\n",
            "SFX_Gift_Card_2020_Order_Form.xlsx\n",
            "2020-12-07_tangerine_mc (1).pdf\n",
            "2020-12-07_tangerine_mc.pdf\n",
            "User Volunteer Hours 2021-02-01.xlsx\n",
            "2021-02-01 sfx pta user groups list snapshot.gsheet\n",
            "Res#15360320002021-03-01 11.07.03.pdf\n",
            "Financial\n",
            "2017 Wayne Kwong Yuen Sew name change certificate.pdf\n",
            "2020-10-05 city of burnaby 5188 wilton outstanding tax notice.pdf\n",
            "PTA Minutes - 2021 June 1.docx\n",
            "health\n",
            "SFX\n",
            "2018-09-04 westin hotel receipt.pdf\n",
            "2018-09-01 cue cantonese September Lesson Topics.pdf\n",
            "Untitled document (8).gdoc\n",
            "Untitled form.gform\n",
            "2021-12-07_tangerine_mc.pdf\n",
            "Lululemon Team Canada 2022 Shop.gsheet\n",
            "Connor Sew Feb 21 2C SFX Reading Log.gdoc\n",
            "First Day of School Letter & School Calendar (1).pdf\n",
            "First Day of School Letter & School Calendar.gdoc\n",
            "First Day of School Letter & School Calendar.pdf\n",
            "wedding\n",
            "Baby\n",
            "Recipes\n",
            "5188 Wilton Home Exterior Window Vinyl Washing Comparison.gsheet\n",
            "New Procedures for Student Drop Off and Pick up.docx\n",
            "U 2020 (25 sheets).pdf\n",
            "U 2020 (25 sheets)_Ans.pdf\n",
            "2022 Killarney Arena Family Skate Rental Planning.gsheet\n",
            "reports\n",
            "SFX PTA bazaar 2022 bouncy castle.gform\n",
            "Xmas Christmas gift list 2022.gsheet\n",
            "User Volunteer Hours 2023-03-07-WORKING.xlsx\n",
            "Untitled spreadsheet (3).gsheet\n",
            "User Volunteer Hours 2023-03-07-WORKINGa.xlsx\n",
            "User Volunteer Hours 2023-03-08-WORKING.gsheet\n",
            "Untitled document (7).gdoc\n",
            "User Volunteer Hours 2023-03-08-WORKING (1).xlsx\n",
            "User Volunteer Hours 2023-03-08-WORKING.xlsx\n",
            "Untitled document (6).gdoc\n",
            "VICTORIACHAN_2022.pdf\n",
            "Copy of Quicken Replacement (1).gsheet\n",
            "Copy of Quicken Replacement.gsheet\n",
            "2022-12-31 5188 Wilton Scotiabank annual mortgage statement.pdf\n",
            "2023-05-26 bazaar volunteer notes p1.jpg\n",
            "Takeout\n",
            "4021264.pdf\n",
            "Barcelona bowen island Dinner Website.pdf\n",
            "PTA 2023-2024 SHARED FOLDER\n",
            "burnaby minor hockey connor u11 c3.gdoc\n",
            "2023-09-23 Onvolunteers suggestion - Task Exclude Groups.gdoc\n",
            "PTA Meeting Minutes - 2023 Sep 19.docx\n",
            "Burnaby Minor Hockey Association BMHA U11 C3 Team Roster.gsheet\n",
            "SFX PTA Whatsapp Community Proof of Concept.gdoc\n",
            " GeneratedReportsV2 OnVolunteers_Volunteer_Hours_Report2023-10-10__121149.xlsx\n",
            "User Volunteer Hours 2023-10-10 WORKING.xlsx\n",
            "bch-smart-top-up-eligible-models.gsheet\n",
            "Benjamin Birthday Card.mp4\n",
            "Untitled document (5).gdoc\n",
            "Untitled document (4).gdoc\n",
            "2023-12-19 cue Cantonese school progress report Benjamin Sew.jpg\n",
            "piano casio alesis costing.gsheet\n",
            "2023 Family Skate Rental Planning Hillcrest Rink.gsheet\n",
            "2023-12-17 SFX Sunday newsletter Benjamin baptism.pdf\n",
            "vault\n",
            "Untitled document (3).gdoc\n",
            "ADocumentForMerging (7).pdf\n",
            "ADocumentForMerging (6).pdf\n",
            "ADocumentForMerging (5).pdf\n",
            "ADocumentForMerging (4).pdf\n",
            "ADocumentForMerging (3).pdf\n",
            "ADocumentForMerging (2).pdf\n",
            "ADocumentForMerging (1).pdf\n",
            "ADocumentForMerging.pdf\n",
            "2018 Complete List (2).pdf\n",
            "2024-04-07_tangerine_mc.pdf\n",
            "Copy of Anthropic's Prompt Engineering Interactive Tutorial [PUBLIC ACCESS].gsheet\n",
            "2024-05-24 bazaar Activity Coordinator report.xlsx\n",
            "Untitled spreadsheet (2).gsheet\n",
            "Vision Mission Statement of CDF_final.pdf\n",
            "Onvolunteers Webinar: Creating Tasks   Best Practices.gdoc\n",
            " GeneratedReportsV2 OnVolunteers_Volunteer_Hours_Report2024-06-22__113023.xlsx\n",
            "PTA MASTER Class List for PPP 2023-2024 FINAL.xlsx\n",
            "DigitalOcean Invoice 2024 Aug (2388792-491900796).pdf\n",
            "PTA 2024-2025 SHARED FOLDER\n",
            "Hockey Canada Safety Person (HCSP) Training Notes and Resources.gdoc\n",
            "Untitled spreadsheet (1).gsheet\n",
            "UserPIN-2024-09-14.xlsx\n",
            "October 2024 PTA Meeting Slides.gslides\n",
            "2024-09-29 linus 5th birthday party invitation.jpeg\n",
            "Crib Benjamin dimensions.gdoc\n",
            "ChanSew Passport IDs 2.gsheet\n",
            "2024-10-25 sfx boys volleyball consent form.pdf\n",
            "2024-10-20 sfx Volleyball G6 Boys Consent Form.pdf\n",
            "2024-10-28 sfx volleyball boys consent form signed connor sew.odg\n",
            "2024-10-28 sfx volleyball boys consent form signed connor sew.pdf\n",
            "Sew Passport IDs WayneJasonLeaMike.gsheet\n",
            "PTA Meeting Minutes - 2024 Dec 3 DRAFT.docx\n",
            "Untitled spreadsheet.gsheet\n",
            "2024 Family Skate Rental Planning Trout Lake Rink.gsheet\n",
            "2025 Family Skate Rental Planning.gsheet\n",
            "Copy of U11 C4.gsheet\n",
            "Receipt_10Nov2024_190311.pdf\n",
            "Res#94720220002025-01-31 14.25.08.pdf\n",
            "Grayjay harbor profile identity YouTube viewer.gdoc\n",
            "Colab Notebooks\n",
            "Untitled presentation.gslides\n",
            " GeneratedReportsV2 OnVolunteers_Volunteer_Hours_Report2025-02-26__010424.xlsx\n",
            "BMHA Hockey Team Stars U11 C4 Connor Backup Snapshot.gsheet\n",
            "PTA Meeting Minutes - 2025 Apr 1.docx\n",
            "User Volunteer Hours 2025-03-31 WORKING.gsheet\n",
            "Output File Google Sheet (11).gsheet\n",
            "Output File Google Sheet (10).gsheet\n",
            "Output File Google Sheet (9).gsheet\n",
            "Output File Google Sheet (8).gsheet\n",
            "Output File Google Sheet (7).gsheet\n",
            "Output File Google Sheet (6).gsheet\n",
            "Output File Google Sheet (5).gsheet\n",
            "Output File Google Sheet (4).gsheet\n",
            "Output File Google Sheet (3).gsheet\n",
            "Output File Google Sheet (2).gsheet\n",
            "Output File Google Sheet (1).gsheet\n",
            "Output File Google Sheet.gsheet\n",
            "2025-04-14 User Volunteer Hours Report Parking.gsheet\n",
            "Untitled document (2).gdoc\n",
            "Mothers day\n",
            "Untitled document (1).gdoc\n",
            "Untitled document.gdoc\n",
            "Tesla model y Acura RDX winter tire swap.gdoc\n",
            "Copy of Camping list to bring.gsheet\n",
            "Char siu sous vide.gdoc\n",
            "2025-06-03 sfx onvolunteers inactive families.gsheet\n",
            "User Volunteer Hours 2025-06-11 parking.xlsx\n",
            "info\n",
            "camping_checklist.docx\n",
            " GeneratedReportsV2 OnVolunteers_Volunteer_Hours_Report2025-07-10__090555.xlsx\n",
            " GeneratedReportsV2 OnVolunteers_Volunteer_Hours_Report2025-07-10__091729.xlsx\n",
            "travel\n",
            "work\n",
            "Nat instance route private public subnet OCI oracle Cloud.gdoc\n",
            "PTA 2025-2026 SHARED FOLDER\n",
            "Photos\n"
          ]
        }
      ]
    },
    {
      "cell_type": "markdown",
      "metadata": {
        "id": "2e5491ca"
      },
      "source": [
        "**Reasoning**:\n",
        "I have verified that Google Drive is mounted and listed the top-level contents. Based on the output, I can see a folder named `PTA 2023-2024 SHARED FOLDER`. The original path uses `PTA 2025-2026 SHARED FOLDER`. It's highly likely the year in the shared folder name is the source of the `FileNotFoundError`. I will update the directory path to use `PTA 2023-2024 SHARED FOLDER` and retry listing the files in the corrected path as per steps 5 and 6 of the instructions.\n",
        "\n"
      ]
    },
    {
      "cell_type": "code",
      "metadata": {
        "colab": {
          "base_uri": "https://localhost:8080/"
        },
        "id": "0c0d92a1",
        "outputId": "16c705a1-5e35-4328-f8d2-4378791bb2ad"
      },
      "source": [
        "import os\n",
        "\n",
        "# Corrected directory path based on the listed contents of My Drive\n",
        "directory_path_corrected = '/content/drive/My Drive/PTA 2023-2024 SHARED FOLDER/Subcommittees/OnVolunteers/reports/parking-hours'\n",
        "\n",
        "# Retry listing files in the corrected directory\n",
        "print(f\"\\nAttempting to list contents of corrected directory: {directory_path_corrected}\")\n",
        "try:\n",
        "    files_in_directory_corrected = os.listdir(directory_path_corrected)\n",
        "    print(f\"Files in directory {directory_path_corrected}:\")\n",
        "    if files_in_directory_corrected:\n",
        "        for file in files_in_directory_corrected:\n",
        "            print(file)\n",
        "    else:\n",
        "        print(\"Directory is empty.\")\n",
        "except FileNotFoundError:\n",
        "    print(f\"Error: Directory still not found at {directory_path_corrected}\")\n",
        "    print(\"Please manually verify the full path in Google Drive.\")\n",
        "except Exception as e:\n",
        "    print(f\"An error occurred: {e}\")"
      ],
      "execution_count": 9,
      "outputs": [
        {
          "output_type": "stream",
          "name": "stdout",
          "text": [
            "\n",
            "Attempting to list contents of corrected directory: /content/drive/My Drive/PTA 2023-2024 SHARED FOLDER/Subcommittees/OnVolunteers/reports/parking-hours\n",
            "Error: Directory still not found at /content/drive/My Drive/PTA 2023-2024 SHARED FOLDER/Subcommittees/OnVolunteers/reports/parking-hours\n",
            "Please manually verify the full path in Google Drive.\n"
          ]
        }
      ]
    },
    {
      "cell_type": "markdown",
      "metadata": {
        "id": "ab620cf0"
      },
      "source": [
        "## Summary:\n",
        "\n",
        "### Data Analysis Key Findings\n",
        "\n",
        "*   Initial attempts to list files in the specified Google Drive directory path (`/content/drive/My Drive/PTA 2025-2026 SHARED FOLDER/Subcommittees/OnVolunteers/reports/parking-hours`) failed with a `FileNotFoundError`.\n",
        "*   Listing the contents of the top-level Google Drive directory (`/content/drive/My Drive/`) revealed that a folder named `PTA 2023-2024 SHARED FOLDER` exists, while the original path specified `PTA 2025-2026 SHARED FOLDER`.\n",
        "*   Correcting the path to `/content/drive/My Drive/PTA 2023-2024 SHARED FOLDER/Subcommittees/OnVolunteers/reports/parking-hours` and retrying the directory listing still resulted in a `FileNotFoundError`.\n",
        "\n",
        "### Insights or Next Steps\n",
        "\n",
        "*   The exact directory path within Google Drive could not be verified using the provided tools due to persistent `FileNotFoundError`. Manual verification of the full path within Google Drive is required.\n"
      ]
    },
    {
      "cell_type": "markdown",
      "metadata": {
        "id": "141ea360"
      },
      "source": [
        "# Task\n",
        "Modify the code in the selected cell to connect to Google Drive, navigate to the folder \"My Drive/PTA 2025-2026 SHARED FOLDER/Subcommittees/OnVolunteers/reports/parking-hours\", and load the Excel file named \"parking-hours-2025-08-07.xlsx\" into a pandas DataFrame. Verify the file path by listing the contents of the directory."
      ]
    },
    {
      "cell_type": "markdown",
      "metadata": {
        "id": "a97b6640"
      },
      "source": [
        "## Verify google drive mounting\n",
        "\n",
        "### Subtask:\n",
        "Confirm that Google Drive is correctly mounted and accessible in the Colab environment.\n"
      ]
    },
    {
      "cell_type": "markdown",
      "metadata": {
        "id": "1cb3bc6a"
      },
      "source": [
        "**Reasoning**:\n",
        "Import the drive object and mount Google Drive to confirm it is accessible.\n",
        "\n"
      ]
    },
    {
      "cell_type": "code",
      "metadata": {
        "colab": {
          "base_uri": "https://localhost:8080/"
        },
        "id": "b6e31243",
        "outputId": "6107f02a-dc2a-416e-ceca-7a7e1d0535c7"
      },
      "source": [
        "from google.colab import drive\n",
        "drive.mount('/content/drive')"
      ],
      "execution_count": 13,
      "outputs": [
        {
          "output_type": "stream",
          "name": "stdout",
          "text": [
            "Drive already mounted at /content/drive; to attempt to forcibly remount, call drive.mount(\"/content/drive\", force_remount=True).\n"
          ]
        }
      ]
    },
    {
      "cell_type": "markdown",
      "metadata": {
        "id": "8cf9fe13"
      },
      "source": [
        "## List top-level directory contents\n",
        "\n",
        "### Subtask:\n",
        "List the contents of the top-level Google Drive directory (`/content/drive/My Drive/`) to identify the correct shared folder name (e.g., \"PTA 2025-2026 SHARED FOLDER\").\n"
      ]
    },
    {
      "cell_type": "markdown",
      "metadata": {
        "id": "c69ccf25"
      },
      "source": [
        "**Reasoning**:\n",
        "I need to list the contents of the top-level Google Drive directory to identify the correct shared folder name. I will define the path to the top-level directory and use `os.listdir()` to list and print its contents.\n",
        "\n"
      ]
    },
    {
      "cell_type": "code",
      "metadata": {
        "colab": {
          "base_uri": "https://localhost:8080/"
        },
        "id": "594bb3a6",
        "outputId": "a3003217-a9e5-49f7-ad3e-82d5fc071425"
      },
      "source": [
        "# Define the path to the top-level Google Drive directory\n",
        "drive_root = '/content/drive/My Drive/'\n",
        "\n",
        "# List contents of the top-level directory\n",
        "print(f\"Listing contents of {drive_root}:\")\n",
        "try:\n",
        "    top_level_contents = os.listdir(drive_root)\n",
        "    for item in top_level_contents:\n",
        "        print(item)\n",
        "except Exception as e:\n",
        "    print(f\"Error listing {drive_root}: {e}\")"
      ],
      "execution_count": 14,
      "outputs": [
        {
          "output_type": "stream",
          "name": "stdout",
          "text": [
            "Listing contents of /content/drive/My Drive/:\n",
            "media\n",
            "vikey\n",
            "MVI_3244.MOV\n",
            "MVI_3245.MOV\n",
            "music\n",
            "bills\n",
            "SFX DAYCARE application form.docx\n",
            "Google Photos\n",
            "housing\n",
            "Gifts\n",
            "prog\n",
            "receipts_mike\n",
            "NEW XMAS LIST Book1.xls\n",
            "New Recording.m4a\n",
            "Doc Oct 10, 2017, 00_14.pdf\n",
            "vancity\n",
            "Irser.gdoc\n",
            "PD_2018013897423.PDF\n",
            "Doc Mar 10, 2018, 16_53.pdf\n",
            "Memo to parents - March 8 2018.doc\n",
            "Doc May 02, 2018, 14:00.pdf\n",
            "PD_2018053897423.PDF\n",
            "pptc054-victoria-chan-passport-application.pdf\n",
            "Family.xls\n",
            "2018-08-02 great west life disability insurance policy premium.pdf\n",
            "WhatsApp Chat - Blades of Steel.zip\n",
            "2018-10-24 simplii michael chequing void cheque.pdf\n",
            "2018-10-25 Scotiabank Yukon watercolours variable mortgage rate change.pdf.pdf\n",
            "Doc Nov 05, 2018, 13:14.pdf\n",
            "2016-12-07 Belfor statement.pdf.pdf\n",
            "2017-10-14 IKEA knoppang frameset Omar shelf.pdf.pdf\n",
            "2018-05-07 Yukon bc hydro service warning.pdf.pdf\n",
            "2018-03-01-ikea-family-michael-Vicky-card.pdf.pdf\n",
            "Doc Nov 12, 2018, 14:53.pdf\n",
            "Milette door instructions.pdf.pdf\n",
            "Doc Apr 18, 2018, 19:56.pdf\n",
            "nuevo_hgvf404_kitchen_lamp.odf.pdf\n",
            "Doc Aug 04, 2017, 08:34.pdf\n",
            "Doc Apr 29, 2017, 17:16.pdf\n",
            "2018-04-01_506-2289 Yukon crescent rental agreement signed.pdf.pdf\n",
            "Doc Nov 26, 2018, 19:45.pdf\n",
            "2018-05-01 watercolours condition inspection return form.pdf.pdf\n",
            "MDScan PDFs\n",
            "michael sew birth certificate.pdf\n",
            "Products Comparison List - Trail Appliances.pdf\n",
            "2019-06-18 Canada revenue Michael audit request letter.pdf\n",
            "2019-09-09 SFX SEPTEMBER 2019 newsletter.pdf\n",
            "motomaster 09-0078 Tire rack Manual.pdf\n",
            "2019-10-07_tangerine_mc.pdf\n",
            "NOVEMBER 2019.docx\n",
            "2019-12-03 PTA onvolunteers Meeting Notes.gdoc\n",
            "2020-01-03-evite-guestlist.csv\n",
            "vistaprint_connor_birth_announcement_proof.pdf\n",
            "User Volunteer Hours 2020-02-07.gsheet\n",
            "2020-03-01 cheque to icbc victoria.pdf\n",
            "2019-09-10 cheque to icbc (1).pdf\n",
            "2019-09-10 cheque to icbc.pdf\n",
            "PowerPoint Presentation.pdf\n",
            "User Volunteer Hours 2020-05-04 with tempalte.xlsx\n",
            "Volunteer Hours 20200407.xlsx\n",
            "2019-08-01 yukon daycare - Memo to parents.doc\n",
            "https:  pts.burnaby.ca TempestPRD eHog Shared NotAvailable.aspx.pdf\n",
            "Class List 2020-2021 working copy.gsheet\n",
            "PTA Welcome 2020-2021.pdf\n",
            "September 7 letter to parents.gdoc\n",
            "PTA Welcome 2020-2021.gdoc\n",
            "SFX_Gift_Card_2020_Order_Form.xlsx\n",
            "2020-12-07_tangerine_mc (1).pdf\n",
            "2020-12-07_tangerine_mc.pdf\n",
            "User Volunteer Hours 2021-02-01.xlsx\n",
            "2021-02-01 sfx pta user groups list snapshot.gsheet\n",
            "Res#15360320002021-03-01 11.07.03.pdf\n",
            "Financial\n",
            "2017 Wayne Kwong Yuen Sew name change certificate.pdf\n",
            "2020-10-05 city of burnaby 5188 wilton outstanding tax notice.pdf\n",
            "PTA Minutes - 2021 June 1.docx\n",
            "health\n",
            "SFX\n",
            "2018-09-04 westin hotel receipt.pdf\n",
            "2018-09-01 cue cantonese September Lesson Topics.pdf\n",
            "Untitled document (8).gdoc\n",
            "Untitled form.gform\n",
            "2021-12-07_tangerine_mc.pdf\n",
            "Lululemon Team Canada 2022 Shop.gsheet\n",
            "Connor Sew Feb 21 2C SFX Reading Log.gdoc\n",
            "First Day of School Letter & School Calendar (1).pdf\n",
            "First Day of School Letter & School Calendar.gdoc\n",
            "First Day of School Letter & School Calendar.pdf\n",
            "wedding\n",
            "Baby\n",
            "Recipes\n",
            "5188 Wilton Home Exterior Window Vinyl Washing Comparison.gsheet\n",
            "New Procedures for Student Drop Off and Pick up.docx\n",
            "U 2020 (25 sheets).pdf\n",
            "U 2020 (25 sheets)_Ans.pdf\n",
            "2022 Killarney Arena Family Skate Rental Planning.gsheet\n",
            "reports\n",
            "SFX PTA bazaar 2022 bouncy castle.gform\n",
            "Xmas Christmas gift list 2022.gsheet\n",
            "User Volunteer Hours 2023-03-07-WORKING.xlsx\n",
            "Untitled spreadsheet (3).gsheet\n",
            "User Volunteer Hours 2023-03-07-WORKINGa.xlsx\n",
            "User Volunteer Hours 2023-03-08-WORKING.gsheet\n",
            "Untitled document (7).gdoc\n",
            "User Volunteer Hours 2023-03-08-WORKING (1).xlsx\n",
            "User Volunteer Hours 2023-03-08-WORKING.xlsx\n",
            "Untitled document (6).gdoc\n",
            "VICTORIACHAN_2022.pdf\n",
            "Copy of Quicken Replacement (1).gsheet\n",
            "Copy of Quicken Replacement.gsheet\n",
            "2022-12-31 5188 Wilton Scotiabank annual mortgage statement.pdf\n",
            "2023-05-26 bazaar volunteer notes p1.jpg\n",
            "Takeout\n",
            "4021264.pdf\n",
            "Barcelona bowen island Dinner Website.pdf\n",
            "PTA 2023-2024 SHARED FOLDER\n",
            "burnaby minor hockey connor u11 c3.gdoc\n",
            "2023-09-23 Onvolunteers suggestion - Task Exclude Groups.gdoc\n",
            "PTA Meeting Minutes - 2023 Sep 19.docx\n",
            "Burnaby Minor Hockey Association BMHA U11 C3 Team Roster.gsheet\n",
            "SFX PTA Whatsapp Community Proof of Concept.gdoc\n",
            " GeneratedReportsV2 OnVolunteers_Volunteer_Hours_Report2023-10-10__121149.xlsx\n",
            "User Volunteer Hours 2023-10-10 WORKING.xlsx\n",
            "bch-smart-top-up-eligible-models.gsheet\n",
            "Benjamin Birthday Card.mp4\n",
            "Untitled document (5).gdoc\n",
            "Untitled document (4).gdoc\n",
            "2023-12-19 cue Cantonese school progress report Benjamin Sew.jpg\n",
            "piano casio alesis costing.gsheet\n",
            "2023 Family Skate Rental Planning Hillcrest Rink.gsheet\n",
            "2023-12-17 SFX Sunday newsletter Benjamin baptism.pdf\n",
            "vault\n",
            "Untitled document (3).gdoc\n",
            "ADocumentForMerging (7).pdf\n",
            "ADocumentForMerging (6).pdf\n",
            "ADocumentForMerging (5).pdf\n",
            "ADocumentForMerging (4).pdf\n",
            "ADocumentForMerging (3).pdf\n",
            "ADocumentForMerging (2).pdf\n",
            "ADocumentForMerging (1).pdf\n",
            "ADocumentForMerging.pdf\n",
            "2018 Complete List (2).pdf\n",
            "2024-04-07_tangerine_mc.pdf\n",
            "Copy of Anthropic's Prompt Engineering Interactive Tutorial [PUBLIC ACCESS].gsheet\n",
            "2024-05-24 bazaar Activity Coordinator report.xlsx\n",
            "Untitled spreadsheet (2).gsheet\n",
            "Vision Mission Statement of CDF_final.pdf\n",
            "Onvolunteers Webinar: Creating Tasks   Best Practices.gdoc\n",
            " GeneratedReportsV2 OnVolunteers_Volunteer_Hours_Report2024-06-22__113023.xlsx\n",
            "PTA MASTER Class List for PPP 2023-2024 FINAL.xlsx\n",
            "DigitalOcean Invoice 2024 Aug (2388792-491900796).pdf\n",
            "PTA 2024-2025 SHARED FOLDER\n",
            "Hockey Canada Safety Person (HCSP) Training Notes and Resources.gdoc\n",
            "Untitled spreadsheet (1).gsheet\n",
            "UserPIN-2024-09-14.xlsx\n",
            "October 2024 PTA Meeting Slides.gslides\n",
            "2024-09-29 linus 5th birthday party invitation.jpeg\n",
            "Crib Benjamin dimensions.gdoc\n",
            "ChanSew Passport IDs 2.gsheet\n",
            "2024-10-25 sfx boys volleyball consent form.pdf\n",
            "2024-10-20 sfx Volleyball G6 Boys Consent Form.pdf\n",
            "2024-10-28 sfx volleyball boys consent form signed connor sew.odg\n",
            "2024-10-28 sfx volleyball boys consent form signed connor sew.pdf\n",
            "Sew Passport IDs WayneJasonLeaMike.gsheet\n",
            "PTA Meeting Minutes - 2024 Dec 3 DRAFT.docx\n",
            "Untitled spreadsheet.gsheet\n",
            "2024 Family Skate Rental Planning Trout Lake Rink.gsheet\n",
            "2025 Family Skate Rental Planning.gsheet\n",
            "Copy of U11 C4.gsheet\n",
            "Receipt_10Nov2024_190311.pdf\n",
            "Res#94720220002025-01-31 14.25.08.pdf\n",
            "Grayjay harbor profile identity YouTube viewer.gdoc\n",
            "Colab Notebooks\n",
            "Untitled presentation.gslides\n",
            " GeneratedReportsV2 OnVolunteers_Volunteer_Hours_Report2025-02-26__010424.xlsx\n",
            "BMHA Hockey Team Stars U11 C4 Connor Backup Snapshot.gsheet\n",
            "PTA Meeting Minutes - 2025 Apr 1.docx\n",
            "User Volunteer Hours 2025-03-31 WORKING.gsheet\n",
            "Output File Google Sheet (11).gsheet\n",
            "Output File Google Sheet (10).gsheet\n",
            "Output File Google Sheet (9).gsheet\n",
            "Output File Google Sheet (8).gsheet\n",
            "Output File Google Sheet (7).gsheet\n",
            "Output File Google Sheet (6).gsheet\n",
            "Output File Google Sheet (5).gsheet\n",
            "Output File Google Sheet (4).gsheet\n",
            "Output File Google Sheet (3).gsheet\n",
            "Output File Google Sheet (2).gsheet\n",
            "Output File Google Sheet (1).gsheet\n",
            "Output File Google Sheet.gsheet\n",
            "2025-04-14 User Volunteer Hours Report Parking.gsheet\n",
            "Untitled document (2).gdoc\n",
            "Mothers day\n",
            "Untitled document (1).gdoc\n",
            "Untitled document.gdoc\n",
            "Tesla model y Acura RDX winter tire swap.gdoc\n",
            "Copy of Camping list to bring.gsheet\n",
            "Char siu sous vide.gdoc\n",
            "2025-06-03 sfx onvolunteers inactive families.gsheet\n",
            "User Volunteer Hours 2025-06-11 parking.xlsx\n",
            "info\n",
            "camping_checklist.docx\n",
            " GeneratedReportsV2 OnVolunteers_Volunteer_Hours_Report2025-07-10__090555.xlsx\n",
            " GeneratedReportsV2 OnVolunteers_Volunteer_Hours_Report2025-07-10__091729.xlsx\n",
            "travel\n",
            "work\n",
            "Nat instance route private public subnet OCI oracle Cloud.gdoc\n",
            "PTA 2025-2026 SHARED FOLDER\n",
            "Photos\n"
          ]
        }
      ]
    },
    {
      "cell_type": "markdown",
      "metadata": {
        "id": "a3313e5b"
      },
      "source": [
        "## Construct corrected directory path\n",
        "\n",
        "### Subtask:\n",
        "Based on the verified shared folder name, construct the corrected directory path to the 'parking-hours' folder.\n"
      ]
    },
    {
      "cell_type": "markdown",
      "metadata": {
        "id": "f0674e9f"
      },
      "source": [
        "**Reasoning**:\n",
        "Based on the previous step, the correct shared folder name is \"PTA 2025-2026 SHARED FOLDER\". Construct the full path to the reports directory using this name and the provided sub-path.\n",
        "\n"
      ]
    },
    {
      "cell_type": "code",
      "metadata": {
        "colab": {
          "base_uri": "https://localhost:8080/"
        },
        "id": "7dd6bad1",
        "outputId": "c5efc15f-8af3-4e14-cd0e-599269badfc9"
      },
      "source": [
        "import os\n",
        "\n",
        "# Define the exact name of the shared folder identified in the previous step\n",
        "shared_folder_name = \"PTA 2025-2026 SHARED FOLDER\"\n",
        "\n",
        "# Define the base directory path\n",
        "base_directory_path = os.path.join('/content/drive/My Drive/', shared_folder_name)\n",
        "\n",
        "# Define the reports directory path\n",
        "reports_directory = os.path.join(base_directory_path, 'Subcommittees/OnVolunteers/reports/parking-hours')\n",
        "\n",
        "# Print the reports_directory to verify the constructed path\n",
        "print(\"Constructed reports directory path:\", reports_directory)"
      ],
      "execution_count": 15,
      "outputs": [
        {
          "output_type": "stream",
          "name": "stdout",
          "text": [
            "Constructed reports directory path: /content/drive/My Drive/PTA 2025-2026 SHARED FOLDER/Subcommittees/OnVolunteers/reports/parking-hours\n"
          ]
        }
      ]
    },
    {
      "cell_type": "markdown",
      "metadata": {
        "id": "29e61029"
      },
      "source": [
        "**Reasoning**:\n",
        "The reports directory path has been constructed. The next step is to list the files in this directory to confirm the correct file name and path, as per the original task and the subsequent subtasks.\n",
        "\n"
      ]
    },
    {
      "cell_type": "code",
      "metadata": {
        "colab": {
          "base_uri": "https://localhost:8080/"
        },
        "id": "a8ea91d3",
        "outputId": "fb2ee670-e9a0-4b0d-d7f0-5f8f443dc5ff"
      },
      "source": [
        "# List files in the reports directory\n",
        "print(f\"\\nAttempting to list contents of reports directory: {reports_directory}\")\n",
        "try:\n",
        "    files_in_reports_directory = os.listdir(reports_directory)\n",
        "    print(f\"Files in directory {reports_directory}:\")\n",
        "    if files_in_reports_directory:\n",
        "        for file in files_in_reports_directory:\n",
        "            print(file)\n",
        "    else:\n",
        "        print(\"Directory is empty.\")\n",
        "except FileNotFoundError:\n",
        "    print(f\"Error: Directory still not found at {reports_directory}\")\n",
        "    print(\"Please manually verify the full path in Google Drive.\")\n",
        "except Exception as e:\n",
        "    print(f\"An error occurred: {e}\")"
      ],
      "execution_count": 16,
      "outputs": [
        {
          "output_type": "stream",
          "name": "stdout",
          "text": [
            "\n",
            "Attempting to list contents of reports directory: /content/drive/My Drive/PTA 2025-2026 SHARED FOLDER/Subcommittees/OnVolunteers/reports/parking-hours\n",
            "Error: Directory still not found at /content/drive/My Drive/PTA 2025-2026 SHARED FOLDER/Subcommittees/OnVolunteers/reports/parking-hours\n",
            "Please manually verify the full path in Google Drive.\n"
          ]
        }
      ]
    },
    {
      "cell_type": "markdown",
      "metadata": {
        "id": "cbac1948"
      },
      "source": [
        "**Reasoning**:\n",
        "Despite identifying the correct shared folder name and constructing the path, the `FileNotFoundError` persists. This indicates there might be an issue deeper within the path or with the file itself. I need to manually inspect the directory structure step-by-step within the shared folder to pinpoint where the path becomes incorrect. I will list the contents of the `base_directory_path` first to confirm the existence of the `Subcommittees` folder.\n",
        "\n"
      ]
    },
    {
      "cell_type": "code",
      "metadata": {
        "colab": {
          "base_uri": "https://localhost:8080/"
        },
        "id": "8cf2447b",
        "outputId": "73eb4b44-bf97-4ee5-cff6-f9e9267aaceb"
      },
      "source": [
        "# List contents of the base shared folder directory\n",
        "print(f\"\\nListing contents of base shared folder directory: {base_directory_path}\")\n",
        "try:\n",
        "    base_directory_contents = os.listdir(base_directory_path)\n",
        "    for item in base_directory_contents:\n",
        "        print(item)\n",
        "except FileNotFoundError:\n",
        "    print(f\"Error: Base shared folder directory not found at {base_directory_path}\")\n",
        "except Exception as e:\n",
        "    print(f\"An error occurred: {e}\")"
      ],
      "execution_count": 17,
      "outputs": [
        {
          "output_type": "stream",
          "name": "stdout",
          "text": [
            "\n",
            "Listing contents of base shared folder directory: /content/drive/My Drive/PTA 2025-2026 SHARED FOLDER\n",
            "PTA Meetings\n",
            "Subcommittees\n"
          ]
        }
      ]
    },
    {
      "cell_type": "markdown",
      "metadata": {
        "id": "1dc21c8c"
      },
      "source": [
        "**Reasoning**:\n",
        "I have confirmed the existence of the `Subcommittees` folder within the base shared folder. Now I will list the contents of the `Subcommittees` directory to verify the next part of the path, specifically the 'OnVolunteers' folder.\n",
        "\n"
      ]
    },
    {
      "cell_type": "code",
      "metadata": {
        "colab": {
          "base_uri": "https://localhost:8080/"
        },
        "id": "b4d8e547",
        "outputId": "fba9402b-3769-417a-85ec-590fe0cb7d95"
      },
      "source": [
        "# Construct the path to the Subcommittees directory\n",
        "subcommittees_directory = os.path.join(base_directory_path, 'Subcommittees')\n",
        "\n",
        "# List contents of the Subcommittees directory\n",
        "print(f\"\\nListing contents of Subcommittees directory: {subcommittees_directory}\")\n",
        "try:\n",
        "    subcommittees_contents = os.listdir(subcommittees_directory)\n",
        "    for item in subcommittees_contents:\n",
        "        print(item)\n",
        "except FileNotFoundError:\n",
        "    print(f\"Error: Subcommittees directory not found at {subcommittees_directory}\")\n",
        "except Exception as e:\n",
        "    print(f\"An error occurred: {e}\")"
      ],
      "execution_count": 18,
      "outputs": [
        {
          "output_type": "stream",
          "name": "stdout",
          "text": [
            "\n",
            "Listing contents of Subcommittees directory: /content/drive/My Drive/PTA 2025-2026 SHARED FOLDER/Subcommittees\n",
            "OnVolunteers\n"
          ]
        }
      ]
    },
    {
      "cell_type": "markdown",
      "metadata": {
        "id": "826fc13b"
      },
      "source": [
        "**Reasoning**:\n",
        "I have confirmed the existence of the `OnVolunteers` folder within the `Subcommittees` directory. The next step is to list the contents of the `OnVolunteers` directory to verify the existence of the 'reports' folder, continuing the step-by-step verification of the path.\n",
        "\n"
      ]
    },
    {
      "cell_type": "code",
      "metadata": {
        "colab": {
          "base_uri": "https://localhost:8080/"
        },
        "id": "31e05ff2",
        "outputId": "dc6644a1-4ee6-4ff1-97f1-29e3eee43d74"
      },
      "source": [
        "# Construct the path to the OnVolunteers directory\n",
        "onvolunteers_directory = os.path.join(base_directory_path, 'Subcommittees/OnVolunteers')\n",
        "\n",
        "# List contents of the OnVolunteers directory\n",
        "print(f\"\\nListing contents of OnVolunteers directory: {onvolunteers_directory}\")\n",
        "try:\n",
        "    onvolunteers_contents = os.listdir(onvolunteers_directory)\n",
        "    for item in onvolunteers_contents:\n",
        "        print(item)\n",
        "except FileNotFoundError:\n",
        "    print(f\"Error: OnVolunteers directory not found at {onvolunteers_directory}\")\n",
        "except Exception as e:\n",
        "    print(f\"An error occurred: {e}\")"
      ],
      "execution_count": 19,
      "outputs": [
        {
          "output_type": "stream",
          "name": "stdout",
          "text": [
            "\n",
            "Listing contents of OnVolunteers directory: /content/drive/My Drive/PTA 2025-2026 SHARED FOLDER/Subcommittees/OnVolunteers\n",
            "Onvolunteers New Platform Test 2025-08-09.gdoc\n",
            "onvolunteers-batch-import-activity-template.xlsx\n",
            "Example Requirements Downloaded list.xlsx\n",
            "Reports\n"
          ]
        }
      ]
    },
    {
      "cell_type": "markdown",
      "metadata": {
        "id": "0b005ea6"
      },
      "source": [
        "**Reasoning**:\n",
        "I have successfully verified the existence of the 'Reports' folder within the 'OnVolunteers' directory. The next step is to list the contents of this 'Reports' folder to finally check for the 'parking-hours' folder and the target Excel file.\n",
        "\n"
      ]
    },
    {
      "cell_type": "code",
      "metadata": {
        "colab": {
          "base_uri": "https://localhost:8080/"
        },
        "id": "d2d3ff22",
        "outputId": "11b269ab-3ebd-441e-bdf8-d4e71cf09f5a"
      },
      "source": [
        "# Construct the path to the Reports directory\n",
        "reports_directory_step = os.path.join(base_directory_path, 'Subcommittees/OnVolunteers/Reports')\n",
        "\n",
        "# List contents of the Reports directory\n",
        "print(f\"\\nListing contents of Reports directory: {reports_directory_step}\")\n",
        "try:\n",
        "    reports_contents = os.listdir(reports_directory_step)\n",
        "    for item in reports_contents:\n",
        "        print(item)\n",
        "except FileNotFoundError:\n",
        "    print(f\"Error: Reports directory not found at {reports_directory_step}\")\n",
        "except Exception as e:\n",
        "    print(f\"An error occurred: {e}\")"
      ],
      "execution_count": 20,
      "outputs": [
        {
          "output_type": "stream",
          "name": "stdout",
          "text": [
            "\n",
            "Listing contents of Reports directory: /content/drive/My Drive/PTA 2025-2026 SHARED FOLDER/Subcommittees/OnVolunteers/Reports\n",
            "onvolunteers-batch-import-activity-parking-patrol.numbers\n",
            "onvolunteers-batch-import-activity-parking-patrol.xlsx\n",
            "user-volunteer-hours\n",
            "parking-hours\n"
          ]
        }
      ]
    },
    {
      "cell_type": "markdown",
      "metadata": {
        "id": "3468c0d6"
      },
      "source": [
        "**Reasoning**:\n",
        "I have successfully navigated through the directory structure and confirmed the existence of the 'parking-hours' folder within the 'Reports' directory. The original path had 'reports' in lowercase, while the actual folder name is 'Reports' with a capital 'R'. I will now construct the corrected `reports_directory` using the capital 'R' for 'Reports' and then attempt to list the contents of this corrected path to find the target Excel file.\n",
        "\n"
      ]
    },
    {
      "cell_type": "code",
      "metadata": {
        "colab": {
          "base_uri": "https://localhost:8080/"
        },
        "id": "2d54112f",
        "outputId": "65150a79-7f0d-4f37-a409-6b440cd53ed6"
      },
      "source": [
        "import os\n",
        "\n",
        "# Define the exact name of the shared folder identified in the previous step\n",
        "shared_folder_name = \"PTA 2025-2026 SHARED FOLDER\"\n",
        "\n",
        "# Define the base directory path\n",
        "base_directory_path = os.path.join('/content/drive/My Drive/', shared_folder_name)\n",
        "\n",
        "# Corrected reports directory path using the capital 'R' for 'Reports'\n",
        "reports_directory = os.path.join(base_directory_path, 'Subcommittees/OnVolunteers/Reports/parking-hours')\n",
        "\n",
        "# Print the corrected reports_directory to verify the constructed path.\n",
        "print(\"Corrected reports directory path:\", reports_directory)\n",
        "\n",
        "# List files in the corrected reports directory to confirm the correct file name and path.\n",
        "print(f\"\\nAttempting to list contents of corrected reports directory: {reports_directory}\")\n",
        "try:\n",
        "    files_in_reports_directory = os.listdir(reports_directory)\n",
        "    print(f\"Files in directory {reports_directory}:\")\n",
        "    if files_in_reports_directory:\n",
        "        for file in files_in_reports_directory:\n",
        "            print(file)\n",
        "    else:\n",
        "        print(\"Directory is empty.\")\n",
        "except FileNotFoundError:\n",
        "    print(f\"Error: Directory still not found at {reports_directory}\")\n",
        "    print(\"Please manually verify the full path in Google Drive.\")\n",
        "except Exception as e:\n",
        "    print(f\"An error occurred: {e}\")"
      ],
      "execution_count": 21,
      "outputs": [
        {
          "output_type": "stream",
          "name": "stdout",
          "text": [
            "Corrected reports directory path: /content/drive/My Drive/PTA 2025-2026 SHARED FOLDER/Subcommittees/OnVolunteers/Reports/parking-hours\n",
            "\n",
            "Attempting to list contents of corrected reports directory: /content/drive/My Drive/PTA 2025-2026 SHARED FOLDER/Subcommittees/OnVolunteers/Reports/parking-hours\n",
            "Files in directory /content/drive/My Drive/PTA 2025-2026 SHARED FOLDER/Subcommittees/OnVolunteers/Reports/parking-hours:\n",
            "parking-hours-2025-08-07.xlsx\n"
          ]
        }
      ]
    },
    {
      "cell_type": "markdown",
      "metadata": {
        "id": "cf7faddb"
      },
      "source": [
        "## Construct corrected file path\n",
        "\n",
        "### Subtask:\n",
        "Based on the confirmed file name, construct the corrected full file path to the Excel file.\n"
      ]
    },
    {
      "cell_type": "markdown",
      "metadata": {
        "id": "5a78ce87"
      },
      "source": [
        "**Reasoning**:\n",
        "Construct the full file path using the corrected directory path and the target file name.\n",
        "\n"
      ]
    },
    {
      "cell_type": "code",
      "metadata": {
        "colab": {
          "base_uri": "https://localhost:8080/"
        },
        "id": "8ec9f0c1",
        "outputId": "27156335-0c6e-4d8c-9e72-f577cc4ccc37"
      },
      "source": [
        "import os\n",
        "\n",
        "# Define the corrected directory path (confirmed in the previous subtask)\n",
        "corrected_directory_path = '/content/drive/My Drive/PTA 2025-2026 SHARED FOLDER/Subcommittees/OnVolunteers/Reports/parking-hours'\n",
        "\n",
        "# Define the name of the target Excel file\n",
        "target_file_name = 'parking-hours-2025-08-07.xlsx'\n",
        "\n",
        "# Construct the full file path\n",
        "full_file_path = os.path.join(corrected_directory_path, target_file_name)\n",
        "\n",
        "# Print the constructed full file path\n",
        "print(\"Constructed full file path:\", full_file_path)"
      ],
      "execution_count": 22,
      "outputs": [
        {
          "output_type": "stream",
          "name": "stdout",
          "text": [
            "Constructed full file path: /content/drive/My Drive/PTA 2025-2026 SHARED FOLDER/Subcommittees/OnVolunteers/Reports/parking-hours/parking-hours-2025-08-07.xlsx\n"
          ]
        }
      ]
    },
    {
      "cell_type": "markdown",
      "metadata": {
        "id": "bd897ded"
      },
      "source": [
        "## Load data with corrected path\n",
        "\n",
        "### Subtask:\n",
        "Modify the code to use the corrected file path and attempt to load the data into a pandas DataFrame.\n"
      ]
    },
    {
      "cell_type": "markdown",
      "metadata": {
        "id": "a4752e72"
      },
      "source": [
        "**Reasoning**:\n",
        "I will import pandas, define the corrected file path, and attempt to load the Excel file into a DataFrame using a try-except block to handle potential errors, then display the head of the DataFrame if successful.\n",
        "\n"
      ]
    },
    {
      "cell_type": "code",
      "metadata": {
        "colab": {
          "base_uri": "https://localhost:8080/",
          "height": 328
        },
        "id": "5af18437",
        "outputId": "d71c3f89-c6a5-4f13-91de-2d4bb3aab63f"
      },
      "source": [
        "import pandas as pd\n",
        "\n",
        "# Define the corrected full file path to the Excel file\n",
        "corrected_file_path = '/content/drive/My Drive/PTA 2025-2026 SHARED FOLDER/Subcommittees/OnVolunteers/Reports/parking-hours/parking-hours-2025-08-07.xlsx'\n",
        "\n",
        "# Use pd.read_excel() to load the data\n",
        "try:\n",
        "    df_parking_hours = pd.read_excel(corrected_file_path)\n",
        "    print(f\"Successfully loaded data from {corrected_file_path}\")\n",
        "    # Display the head of the loaded DataFrame\n",
        "    display(df_parking_hours.head())\n",
        "except FileNotFoundError:\n",
        "    print(f\"Error: File not found at {corrected_file_path}\")\n",
        "except Exception as e:\n",
        "    print(f\"An error occurred: {e}\")"
      ],
      "execution_count": 23,
      "outputs": [
        {
          "output_type": "stream",
          "name": "stdout",
          "text": [
            "Successfully loaded data from /content/drive/My Drive/PTA 2025-2026 SHARED FOLDER/Subcommittees/OnVolunteers/Reports/parking-hours/parking-hours-2025-08-07.xlsx\n"
          ]
        },
        {
          "output_type": "display_data",
          "data": {
            "text/plain": [
              "  Last Name     First Name Child Last Name Child First Name  \\\n",
              "0    Akaike      Yuka 8930           Hwang            Mirai   \n",
              "1        Au    Wilson 8772          Au\\nAu     Riley\\nHazel   \n",
              "2        Au     Kevin 0065              Au        Princeton   \n",
              "3       Bao  Xiu Hong 8824             Bao           Jordan   \n",
              "4     Byrne    Darren 8825           Byrne          Saoirse   \n",
              "\n",
              "                     Children                    Email       Telephone  \\\n",
              "0             Mirai Hwang (5)    Yuka.akaike@gmail.com   (778)316-9605   \n",
              "1  Riley Au (7); Hazel Au (5)    au_wilson@hotmail.com  (604) 716-3800   \n",
              "2            Princeton Au (3)  princetonau2023@163.com    778-882-3168   \n",
              "3       Jordan Bao (Graduate)       mary751204@163.com  (604) 787-9700   \n",
              "4    Saoirse Byrne (Graduate)         wubyrne@yahoo.ca  (604) 780 0537   \n",
              "\n",
              "   Upcoming Hours  Pending Hours  Finished Hours  Adhoc Hours  Total Hours  \\\n",
              "0             0.0            0.0             3.0          0.0          3.0   \n",
              "1             0.0            0.0             3.0          0.0          3.0   \n",
              "2             0.0            0.0             3.0          0.0          3.0   \n",
              "3             0.0            0.0             3.0          0.0          3.0   \n",
              "4             0.0            0.0             3.0          0.0          3.0   \n",
              "\n",
              "   FundRaising Hours  Target Hours  Adjustment Hours Adjust Notes  \n",
              "0                0.0          26.0               0.0          NaN  \n",
              "1                0.0          26.0               0.0          NaN  \n",
              "2                0.0          26.0               0.0          NaN  \n",
              "3                0.0          26.0               0.0          NaN  \n",
              "4                0.0          26.0               0.0          NaN  "
            ],
            "text/html": [
              "\n",
              "  <div id=\"df-89b437ae-11bd-466c-a939-c6f2723c2135\" class=\"colab-df-container\">\n",
              "    <div>\n",
              "<style scoped>\n",
              "    .dataframe tbody tr th:only-of-type {\n",
              "        vertical-align: middle;\n",
              "    }\n",
              "\n",
              "    .dataframe tbody tr th {\n",
              "        vertical-align: top;\n",
              "    }\n",
              "\n",
              "    .dataframe thead th {\n",
              "        text-align: right;\n",
              "    }\n",
              "</style>\n",
              "<table border=\"1\" class=\"dataframe\">\n",
              "  <thead>\n",
              "    <tr style=\"text-align: right;\">\n",
              "      <th></th>\n",
              "      <th>Last Name</th>\n",
              "      <th>First Name</th>\n",
              "      <th>Child Last Name</th>\n",
              "      <th>Child First Name</th>\n",
              "      <th>Children</th>\n",
              "      <th>Email</th>\n",
              "      <th>Telephone</th>\n",
              "      <th>Upcoming Hours</th>\n",
              "      <th>Pending Hours</th>\n",
              "      <th>Finished Hours</th>\n",
              "      <th>Adhoc Hours</th>\n",
              "      <th>Total Hours</th>\n",
              "      <th>FundRaising Hours</th>\n",
              "      <th>Target Hours</th>\n",
              "      <th>Adjustment Hours</th>\n",
              "      <th>Adjust Notes</th>\n",
              "    </tr>\n",
              "  </thead>\n",
              "  <tbody>\n",
              "    <tr>\n",
              "      <th>0</th>\n",
              "      <td>Akaike</td>\n",
              "      <td>Yuka 8930</td>\n",
              "      <td>Hwang</td>\n",
              "      <td>Mirai</td>\n",
              "      <td>Mirai Hwang (5)</td>\n",
              "      <td>Yuka.akaike@gmail.com</td>\n",
              "      <td>(778)316-9605</td>\n",
              "      <td>0.0</td>\n",
              "      <td>0.0</td>\n",
              "      <td>3.0</td>\n",
              "      <td>0.0</td>\n",
              "      <td>3.0</td>\n",
              "      <td>0.0</td>\n",
              "      <td>26.0</td>\n",
              "      <td>0.0</td>\n",
              "      <td>NaN</td>\n",
              "    </tr>\n",
              "    <tr>\n",
              "      <th>1</th>\n",
              "      <td>Au</td>\n",
              "      <td>Wilson 8772</td>\n",
              "      <td>Au\\nAu</td>\n",
              "      <td>Riley\\nHazel</td>\n",
              "      <td>Riley Au (7); Hazel Au (5)</td>\n",
              "      <td>au_wilson@hotmail.com</td>\n",
              "      <td>(604) 716-3800</td>\n",
              "      <td>0.0</td>\n",
              "      <td>0.0</td>\n",
              "      <td>3.0</td>\n",
              "      <td>0.0</td>\n",
              "      <td>3.0</td>\n",
              "      <td>0.0</td>\n",
              "      <td>26.0</td>\n",
              "      <td>0.0</td>\n",
              "      <td>NaN</td>\n",
              "    </tr>\n",
              "    <tr>\n",
              "      <th>2</th>\n",
              "      <td>Au</td>\n",
              "      <td>Kevin 0065</td>\n",
              "      <td>Au</td>\n",
              "      <td>Princeton</td>\n",
              "      <td>Princeton Au (3)</td>\n",
              "      <td>princetonau2023@163.com</td>\n",
              "      <td>778-882-3168</td>\n",
              "      <td>0.0</td>\n",
              "      <td>0.0</td>\n",
              "      <td>3.0</td>\n",
              "      <td>0.0</td>\n",
              "      <td>3.0</td>\n",
              "      <td>0.0</td>\n",
              "      <td>26.0</td>\n",
              "      <td>0.0</td>\n",
              "      <td>NaN</td>\n",
              "    </tr>\n",
              "    <tr>\n",
              "      <th>3</th>\n",
              "      <td>Bao</td>\n",
              "      <td>Xiu Hong 8824</td>\n",
              "      <td>Bao</td>\n",
              "      <td>Jordan</td>\n",
              "      <td>Jordan Bao (Graduate)</td>\n",
              "      <td>mary751204@163.com</td>\n",
              "      <td>(604) 787-9700</td>\n",
              "      <td>0.0</td>\n",
              "      <td>0.0</td>\n",
              "      <td>3.0</td>\n",
              "      <td>0.0</td>\n",
              "      <td>3.0</td>\n",
              "      <td>0.0</td>\n",
              "      <td>26.0</td>\n",
              "      <td>0.0</td>\n",
              "      <td>NaN</td>\n",
              "    </tr>\n",
              "    <tr>\n",
              "      <th>4</th>\n",
              "      <td>Byrne</td>\n",
              "      <td>Darren 8825</td>\n",
              "      <td>Byrne</td>\n",
              "      <td>Saoirse</td>\n",
              "      <td>Saoirse Byrne (Graduate)</td>\n",
              "      <td>wubyrne@yahoo.ca</td>\n",
              "      <td>(604) 780 0537</td>\n",
              "      <td>0.0</td>\n",
              "      <td>0.0</td>\n",
              "      <td>3.0</td>\n",
              "      <td>0.0</td>\n",
              "      <td>3.0</td>\n",
              "      <td>0.0</td>\n",
              "      <td>26.0</td>\n",
              "      <td>0.0</td>\n",
              "      <td>NaN</td>\n",
              "    </tr>\n",
              "  </tbody>\n",
              "</table>\n",
              "</div>\n",
              "    <div class=\"colab-df-buttons\">\n",
              "\n",
              "  <div class=\"colab-df-container\">\n",
              "    <button class=\"colab-df-convert\" onclick=\"convertToInteractive('df-89b437ae-11bd-466c-a939-c6f2723c2135')\"\n",
              "            title=\"Convert this dataframe to an interactive table.\"\n",
              "            style=\"display:none;\">\n",
              "\n",
              "  <svg xmlns=\"http://www.w3.org/2000/svg\" height=\"24px\" viewBox=\"0 -960 960 960\">\n",
              "    <path d=\"M120-120v-720h720v720H120Zm60-500h600v-160H180v160Zm220 220h160v-160H400v160Zm0 220h160v-160H400v160ZM180-400h160v-160H180v160Zm440 0h160v-160H620v160ZM180-180h160v-160H180v160Zm440 0h160v-160H620v160Z\"/>\n",
              "  </svg>\n",
              "    </button>\n",
              "\n",
              "  <style>\n",
              "    .colab-df-container {\n",
              "      display:flex;\n",
              "      gap: 12px;\n",
              "    }\n",
              "\n",
              "    .colab-df-convert {\n",
              "      background-color: #E8F0FE;\n",
              "      border: none;\n",
              "      border-radius: 50%;\n",
              "      cursor: pointer;\n",
              "      display: none;\n",
              "      fill: #1967D2;\n",
              "      height: 32px;\n",
              "      padding: 0 0 0 0;\n",
              "      width: 32px;\n",
              "    }\n",
              "\n",
              "    .colab-df-convert:hover {\n",
              "      background-color: #E2EBFA;\n",
              "      box-shadow: 0px 1px 2px rgba(60, 64, 67, 0.3), 0px 1px 3px 1px rgba(60, 64, 67, 0.15);\n",
              "      fill: #174EA6;\n",
              "    }\n",
              "\n",
              "    .colab-df-buttons div {\n",
              "      margin-bottom: 4px;\n",
              "    }\n",
              "\n",
              "    [theme=dark] .colab-df-convert {\n",
              "      background-color: #3B4455;\n",
              "      fill: #D2E3FC;\n",
              "    }\n",
              "\n",
              "    [theme=dark] .colab-df-convert:hover {\n",
              "      background-color: #434B5C;\n",
              "      box-shadow: 0px 1px 3px 1px rgba(0, 0, 0, 0.15);\n",
              "      filter: drop-shadow(0px 1px 2px rgba(0, 0, 0, 0.3));\n",
              "      fill: #FFFFFF;\n",
              "    }\n",
              "  </style>\n",
              "\n",
              "    <script>\n",
              "      const buttonEl =\n",
              "        document.querySelector('#df-89b437ae-11bd-466c-a939-c6f2723c2135 button.colab-df-convert');\n",
              "      buttonEl.style.display =\n",
              "        google.colab.kernel.accessAllowed ? 'block' : 'none';\n",
              "\n",
              "      async function convertToInteractive(key) {\n",
              "        const element = document.querySelector('#df-89b437ae-11bd-466c-a939-c6f2723c2135');\n",
              "        const dataTable =\n",
              "          await google.colab.kernel.invokeFunction('convertToInteractive',\n",
              "                                                    [key], {});\n",
              "        if (!dataTable) return;\n",
              "\n",
              "        const docLinkHtml = 'Like what you see? Visit the ' +\n",
              "          '<a target=\"_blank\" href=https://colab.research.google.com/notebooks/data_table.ipynb>data table notebook</a>'\n",
              "          + ' to learn more about interactive tables.';\n",
              "        element.innerHTML = '';\n",
              "        dataTable['output_type'] = 'display_data';\n",
              "        await google.colab.output.renderOutput(dataTable, element);\n",
              "        const docLink = document.createElement('div');\n",
              "        docLink.innerHTML = docLinkHtml;\n",
              "        element.appendChild(docLink);\n",
              "      }\n",
              "    </script>\n",
              "  </div>\n",
              "\n",
              "\n",
              "    <div id=\"df-dd3c50d2-c05c-4db8-95e1-d3da6483c7ec\">\n",
              "      <button class=\"colab-df-quickchart\" onclick=\"quickchart('df-dd3c50d2-c05c-4db8-95e1-d3da6483c7ec')\"\n",
              "                title=\"Suggest charts\"\n",
              "                style=\"display:none;\">\n",
              "\n",
              "<svg xmlns=\"http://www.w3.org/2000/svg\" height=\"24px\"viewBox=\"0 0 24 24\"\n",
              "     width=\"24px\">\n",
              "    <g>\n",
              "        <path d=\"M19 3H5c-1.1 0-2 .9-2 2v14c0 1.1.9 2 2 2h14c1.1 0 2-.9 2-2V5c0-1.1-.9-2-2-2zM9 17H7v-7h2v7zm4 0h-2V7h2v10zm4 0h-2v-4h2v4z\"/>\n",
              "    </g>\n",
              "</svg>\n",
              "      </button>\n",
              "\n",
              "<style>\n",
              "  .colab-df-quickchart {\n",
              "      --bg-color: #E8F0FE;\n",
              "      --fill-color: #1967D2;\n",
              "      --hover-bg-color: #E2EBFA;\n",
              "      --hover-fill-color: #174EA6;\n",
              "      --disabled-fill-color: #AAA;\n",
              "      --disabled-bg-color: #DDD;\n",
              "  }\n",
              "\n",
              "  [theme=dark] .colab-df-quickchart {\n",
              "      --bg-color: #3B4455;\n",
              "      --fill-color: #D2E3FC;\n",
              "      --hover-bg-color: #434B5C;\n",
              "      --hover-fill-color: #FFFFFF;\n",
              "      --disabled-bg-color: #3B4455;\n",
              "      --disabled-fill-color: #666;\n",
              "  }\n",
              "\n",
              "  .colab-df-quickchart {\n",
              "    background-color: var(--bg-color);\n",
              "    border: none;\n",
              "    border-radius: 50%;\n",
              "    cursor: pointer;\n",
              "    display: none;\n",
              "    fill: var(--fill-color);\n",
              "    height: 32px;\n",
              "    padding: 0;\n",
              "    width: 32px;\n",
              "  }\n",
              "\n",
              "  .colab-df-quickchart:hover {\n",
              "    background-color: var(--hover-bg-color);\n",
              "    box-shadow: 0 1px 2px rgba(60, 64, 67, 0.3), 0 1px 3px 1px rgba(60, 64, 67, 0.15);\n",
              "    fill: var(--button-hover-fill-color);\n",
              "  }\n",
              "\n",
              "  .colab-df-quickchart-complete:disabled,\n",
              "  .colab-df-quickchart-complete:disabled:hover {\n",
              "    background-color: var(--disabled-bg-color);\n",
              "    fill: var(--disabled-fill-color);\n",
              "    box-shadow: none;\n",
              "  }\n",
              "\n",
              "  .colab-df-spinner {\n",
              "    border: 2px solid var(--fill-color);\n",
              "    border-color: transparent;\n",
              "    border-bottom-color: var(--fill-color);\n",
              "    animation:\n",
              "      spin 1s steps(1) infinite;\n",
              "  }\n",
              "\n",
              "  @keyframes spin {\n",
              "    0% {\n",
              "      border-color: transparent;\n",
              "      border-bottom-color: var(--fill-color);\n",
              "      border-left-color: var(--fill-color);\n",
              "    }\n",
              "    20% {\n",
              "      border-color: transparent;\n",
              "      border-left-color: var(--fill-color);\n",
              "      border-top-color: var(--fill-color);\n",
              "    }\n",
              "    30% {\n",
              "      border-color: transparent;\n",
              "      border-left-color: var(--fill-color);\n",
              "      border-top-color: var(--fill-color);\n",
              "      border-right-color: var(--fill-color);\n",
              "    }\n",
              "    40% {\n",
              "      border-color: transparent;\n",
              "      border-right-color: var(--fill-color);\n",
              "      border-top-color: var(--fill-color);\n",
              "    }\n",
              "    60% {\n",
              "      border-color: transparent;\n",
              "      border-right-color: var(--fill-color);\n",
              "    }\n",
              "    80% {\n",
              "      border-color: transparent;\n",
              "      border-right-color: var(--fill-color);\n",
              "      border-bottom-color: var(--fill-color);\n",
              "    }\n",
              "    90% {\n",
              "      border-color: transparent;\n",
              "      border-bottom-color: var(--fill-color);\n",
              "    }\n",
              "  }\n",
              "</style>\n",
              "\n",
              "      <script>\n",
              "        async function quickchart(key) {\n",
              "          const quickchartButtonEl =\n",
              "            document.querySelector('#' + key + ' button');\n",
              "          quickchartButtonEl.disabled = true;  // To prevent multiple clicks.\n",
              "          quickchartButtonEl.classList.add('colab-df-spinner');\n",
              "          try {\n",
              "            const charts = await google.colab.kernel.invokeFunction(\n",
              "                'suggestCharts', [key], {});\n",
              "          } catch (error) {\n",
              "            console.error('Error during call to suggestCharts:', error);\n",
              "          }\n",
              "          quickchartButtonEl.classList.remove('colab-df-spinner');\n",
              "          quickchartButtonEl.classList.add('colab-df-quickchart-complete');\n",
              "        }\n",
              "        (() => {\n",
              "          let quickchartButtonEl =\n",
              "            document.querySelector('#df-dd3c50d2-c05c-4db8-95e1-d3da6483c7ec button');\n",
              "          quickchartButtonEl.style.display =\n",
              "            google.colab.kernel.accessAllowed ? 'block' : 'none';\n",
              "        })();\n",
              "      </script>\n",
              "    </div>\n",
              "\n",
              "    </div>\n",
              "  </div>\n"
            ],
            "application/vnd.google.colaboratory.intrinsic+json": {
              "type": "dataframe",
              "repr_error": "Out of range float values are not JSON compliant: nan"
            }
          },
          "metadata": {}
        }
      ]
    },
    {
      "cell_type": "markdown",
      "metadata": {
        "id": "bb32165a"
      },
      "source": [
        "## Summary:\n",
        "\n",
        "### Data Analysis Key Findings\n",
        "\n",
        "*   Google Drive was successfully mounted and accessible at `/content/drive`.\n",
        "*   The shared folder name \"PTA 2025-2026 SHARED FOLDER\" was correctly identified within the top-level Google Drive directory.\n",
        "*   Verification of the directory structure revealed that the folder containing the reports was named \"Reports\" (with a capital 'R') instead of \"reports\".\n",
        "*   The correct directory path to the parking hours files was constructed as `/content/drive/My Drive/PTA 2025-2026 SHARED FOLDER/Subcommittees/OnVolunteers/Reports/parking-hours`.\n",
        "*   The target file \"parking-hours-2025-08-07.xlsx\" was confirmed to exist within the corrected directory.\n",
        "*   The Excel file \"parking-hours-2025-08-07.xlsx\" was successfully loaded into a pandas DataFrame using the corrected file path.\n",
        "\n",
        "### Insights or Next Steps\n",
        "\n",
        "*   Always verify folder and file names, including capitalization, when navigating file systems, especially in shared or external drives.\n",
        "*   The DataFrame `df_parking_hours` is now ready for further analysis, such as calculating total parking hours, identifying peak times, or analyzing volunteer contributions.\n"
      ]
    }
  ],
  "metadata": {
    "colab": {
      "name": "google_drive_reporting.ipynb",
      "provenance": []
    },
    "kernelspec": {
      "display_name": "Python 3",
      "name": "python3"
    },
    "language_info": {
      "name": "python"
    }
  },
  "nbformat": 4,
  "nbformat_minor": 0
}